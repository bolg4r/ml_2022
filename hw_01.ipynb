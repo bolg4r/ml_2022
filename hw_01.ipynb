{
  "cells": [
    {
      "cell_type": "markdown",
      "metadata": {
        "id": "7llL7eR7HzFa"
      },
      "source": [
        "# Домашняя работа №1"
      ]
    },
    {
      "cell_type": "markdown",
      "metadata": {
        "id": "2Qi8VNePHzFf"
      },
      "source": [
        "## NumPy"
      ]
    },
    {
      "cell_type": "markdown",
      "metadata": {
        "id": "EJ-cQvOtHzFh"
      },
      "source": [
        "Все задачи из блока ниже нужно решить, не используя циклов (`for`, `while`, `list comprehension`, `apply`, `np.vectorize`, `np.fromfunction` и так далее, создать новые объекты при помощи встроенноых `numpy` генераторов можно) в реализации. Также для каждой задачи нужно написать проверку: создать какой-то пример, написать для него решение и проверить, что реализованная функция для этого примера возвращает объект, который совпадает с решением. Например:\n",
        "\n",
        "```python\n",
        "example = np.eye(5)\n",
        "solution = 2 * np.eye(5)\n",
        "\n",
        "result = double_all_elements(example)\n",
        "assert np.allclose(result, solution)\n",
        "```"
      ]
    },
    {
      "cell_type": "code",
      "execution_count": 460,
      "metadata": {
        "ExecuteTime": {
          "end_time": "2021-09-19T05:58:40.916324Z",
          "start_time": "2021-09-19T05:58:40.913570Z"
        },
        "id": "SO5VYCWrHzFi"
      },
      "outputs": [],
      "source": [
        "import numpy as np"
      ]
    },
    {
      "cell_type": "markdown",
      "metadata": {
        "id": "r3nhfFbDHzFl"
      },
      "source": [
        "### Задание 1 (0.5 балла)"
      ]
    },
    {
      "cell_type": "markdown",
      "metadata": {
        "id": "iiQEU4IyHzFl"
      },
      "source": [
        "Реализуйте функцию, которая из двух векторов $X$ и $Y$ размерности $n$ строит матрицу размерности $(n, 2)$ ($n$ - произвольное)"
      ]
    },
    {
      "cell_type": "code",
      "source": [
        "x = np.array([1,2,3]).T\n",
        "x"
      ],
      "metadata": {
        "colab": {
          "base_uri": "https://localhost:8080/"
        },
        "id": "HFVSJmzPISpe",
        "outputId": "b18a0c20-d355-466e-b926-184bda29778f"
      },
      "execution_count": 461,
      "outputs": [
        {
          "output_type": "execute_result",
          "data": {
            "text/plain": [
              "array([1, 2, 3])"
            ]
          },
          "metadata": {},
          "execution_count": 461
        }
      ]
    },
    {
      "cell_type": "code",
      "execution_count": 462,
      "metadata": {
        "collapsed": true,
        "id": "tFNXCs2dHzFm"
      },
      "outputs": [],
      "source": [
        "def ex1(x, y):\n",
        "  return np.column_stack((x,y)).T\n",
        "\n",
        "  \n",
        "x = np.array([1, 2, 3])\n",
        "y = np.array([3, 4, 5])\n",
        "result = np.array([[1, 2, 3],\n",
        "                   [3, 4, 5]])\n",
        "assert np.allclose(ex1(x,y), result)"
      ]
    },
    {
      "cell_type": "markdown",
      "metadata": {
        "id": "Ha_sbkOtHzFn"
      },
      "source": [
        "### Задание 2  (0.5 балла)"
      ]
    },
    {
      "cell_type": "markdown",
      "metadata": {
        "id": "6Wv6jPuLHzFp"
      },
      "source": [
        "Реализуйте функцию, которая для произвольной матрицы $X$ возвращает среднее значение положительных диагональных элементов"
      ]
    },
    {
      "cell_type": "code",
      "execution_count": 463,
      "metadata": {
        "collapsed": true,
        "id": "JfdlJ_40HzFq"
      },
      "outputs": [],
      "source": [
        "def ex2(x):\n",
        "  a = x.diagonal()\n",
        "  return a[a>0].mean()\n",
        "x = np.array([[-1, 2, 3],\n",
        "              [3, 4, 5],\n",
        "              [6, 7, 8]])\n",
        "a = x.diagonal()\n",
        "res = 6\n",
        "\n",
        "assert np.allclose(ex2(x), res)"
      ]
    },
    {
      "cell_type": "markdown",
      "metadata": {
        "id": "HW4YwrK-HzFt"
      },
      "source": [
        "### Задание 3  (0.5 балла)"
      ]
    },
    {
      "cell_type": "markdown",
      "metadata": {
        "id": "wYHICt72HzFu"
      },
      "source": [
        "Реализуйте функцию, которая для произвольной матрицы $X$ и произвольного числа $k$ заменяет все диагональные элементы матрицы на $k$ (функция не должна ничего возвращать, только модифицировать заданную матрицу)"
      ]
    },
    {
      "cell_type": "code",
      "execution_count": 464,
      "metadata": {
        "collapsed": true,
        "id": "2UvXT2VWHzFv"
      },
      "outputs": [],
      "source": [
        "def ex3(x, k):\n",
        "  x[np.diag_indices_from(x)] = k\n",
        "\n",
        "\n",
        "x = np.array([[-1, 2, 3],\n",
        "              [3, 4, 5],\n",
        "              [6, 7, 8]])\n",
        "k = 0\n",
        "ex3(x, k)\n",
        "res = np.array([[0, 2, 3],\n",
        "                   [3, 0, 5],\n",
        "                   [6, 7, 0]])\n",
        "assert np.allclose(x,res)"
      ]
    },
    {
      "cell_type": "markdown",
      "metadata": {
        "id": "kPPVloq5HzFw"
      },
      "source": [
        "### Задание 5  (0.5 балла)"
      ]
    },
    {
      "cell_type": "markdown",
      "metadata": {
        "id": "Z6Rh_SHFHzFx"
      },
      "source": [
        "Реализуйте функцию, которая проверяет, являются ли две матрицы $X$ и $Y$ одинаковыми (совпадают размерности и значения), если их преобразовать в вектор построчно (например, для `np.array([[0, 1, 2], [3, 4, 5]])` построчное преобразование в вектор - это `np.array([0, 1, 2, 3, 4, 5])`. \n",
        "\n",
        "Функция должна возвращать `True`, если матрицы одинаковые, иначе `False`."
      ]
    },
    {
      "cell_type": "code",
      "execution_count": 465,
      "metadata": {
        "id": "tWnvxZbHHzFx"
      },
      "outputs": [],
      "source": [
        "def ex5(x, y):\n",
        "  return np.array_equal(x.flatten(), y.flatten())\n",
        "\n",
        "\n",
        "x = np.array([[-1, 2, 3],\n",
        "              [3, 4, 5],\n",
        "              [6, 7, 8]])\n",
        "y = np.array([-1, 2, 3, 3, 4, 5, 6, 7, 8])\n",
        "res1 = True\n",
        "assert ex5(x,y) == res1\n",
        "\n",
        "res2 = False\n",
        "x = np.array([[-1, 2, 3],\n",
        "              [3, 4, 5],\n",
        "              [6, 7, 8]])\n",
        "y = np.array([-1, 2, 3, 3, 5, 5, 6, 7, 8])\n",
        "assert ex5(x,y) == res2"
      ]
    },
    {
      "cell_type": "markdown",
      "metadata": {
        "ExecuteTime": {
          "end_time": "2022-09-17T05:10:51.932001Z",
          "start_time": "2022-09-17T05:10:51.928741Z"
        },
        "id": "LrYHHTwCHzFy"
      },
      "source": [
        "### Задание 4  (1 балл)"
      ]
    },
    {
      "cell_type": "markdown",
      "metadata": {
        "collapsed": true,
        "id": "rb6URxNcHzFz"
      },
      "source": [
        "Реализуйте функцию, которая для произвольной матрицы $X$ и произвольного числа k возвращает вектор, состоящий из тех значений $x_{ij}$, для которых верно равенство $(i + j) \\bmod k = 0$"
      ]
    },
    {
      "cell_type": "code",
      "execution_count": 466,
      "metadata": {
        "id": "mD-3PitLHzF0"
      },
      "outputs": [],
      "source": [
        "def ex4(x, k):\n",
        "  a = np.mgrid[1:x.shape[0]+1, 1:x.shape[1]+1]\n",
        "  b = a[0] + a[1]\n",
        "  return x[b%k == 0]\n",
        "\n",
        "x = np.array([[-1, 2, 3],\n",
        "              [3, 4, 5],\n",
        "              [6, 7, 8]])\n",
        "\n",
        "y = np.array([[-1, 2, 6],\n",
        "              [3, 4, 5]])\n",
        "\n",
        "res = np.array([-1,  3,  4,  6,  8])\n",
        "\n",
        "assert np.allclose(ex4(x,2), res)\n",
        "\n",
        "res2 = np.array([2, 3])\n",
        "assert np.allclose(ex4(y, 3), res2)\n"
      ]
    },
    {
      "cell_type": "markdown",
      "metadata": {
        "id": "-GbbFlrwHzF0"
      },
      "source": [
        "### Задание 6 (1 балл)"
      ]
    },
    {
      "cell_type": "markdown",
      "metadata": {
        "id": "feFIn1J0HzF1"
      },
      "source": [
        "В numpy пропущенное значение (`np.nan`) имеет тип `float`:"
      ]
    },
    {
      "cell_type": "code",
      "execution_count": 467,
      "metadata": {
        "colab": {
          "base_uri": "https://localhost:8080/"
        },
        "id": "WyIci40lHzF1",
        "outputId": "574e7633-e9b2-4596-a21f-ac1b3cb53bca"
      },
      "outputs": [
        {
          "output_type": "execute_result",
          "data": {
            "text/plain": [
              "float"
            ]
          },
          "metadata": {},
          "execution_count": 467
        }
      ],
      "source": [
        "type(np.nan)"
      ]
    },
    {
      "cell_type": "markdown",
      "metadata": {
        "id": "JD4PNKSwHzF2"
      },
      "source": [
        "Из-за этого любой числовой массив, содержащий пропущенные значения, будет автоматически иметь тип `float`:"
      ]
    },
    {
      "cell_type": "code",
      "execution_count": 468,
      "metadata": {
        "colab": {
          "base_uri": "https://localhost:8080/"
        },
        "id": "ZkCTdXUlHzF3",
        "outputId": "08fc3292-0c34-4892-83fe-e6a0f0ecd4c8"
      },
      "outputs": [
        {
          "output_type": "execute_result",
          "data": {
            "text/plain": [
              "array([ 1.,  2.,  3., nan])"
            ]
          },
          "metadata": {},
          "execution_count": 468
        }
      ],
      "source": [
        "t = np.array([1, 2, 3, np.nan])\n",
        "t"
      ]
    },
    {
      "cell_type": "code",
      "execution_count": 469,
      "metadata": {
        "colab": {
          "base_uri": "https://localhost:8080/"
        },
        "id": "4tpRaCbnHzF4",
        "outputId": "2824a2cb-7e8d-40ae-aa05-3c97ed87016c"
      },
      "outputs": [
        {
          "output_type": "execute_result",
          "data": {
            "text/plain": [
              "dtype('float64')"
            ]
          },
          "metadata": {},
          "execution_count": 469
        }
      ],
      "source": [
        "t.dtype"
      ]
    },
    {
      "cell_type": "markdown",
      "metadata": {
        "id": "M1vx8UYQHzF4"
      },
      "source": [
        "Реализуйте функцию, которая для произвольной матрицы $X$ будет заменять все пропущенные значения на среднее значение в соответствующей строке, округленное до целого. Также эта функция должна поменять тип матрицы с `float` на `int`, если она после этого преобразования состоит только из целых чисел (считаем, что `3.0` - это целое число). В этой задаче можно создать и вернуть новый объект."
      ]
    },
    {
      "cell_type": "code",
      "execution_count": 470,
      "metadata": {
        "ExecuteTime": {
          "end_time": "2021-10-07T11:10:57.185499Z",
          "start_time": "2021-10-07T11:10:57.177658Z"
        },
        "id": "H96-Ql5rHzF4"
      },
      "outputs": [],
      "source": [
        "def isinteger(x):\n",
        "  return np.equal(np.mod(x, 1), 0)\n",
        "\n",
        "def ex6(x):\n",
        "  colmean = np.nanmean(x, axis = 1)\n",
        "  colmean[colmean%1 == 0.5] += 0.0000000001\n",
        "  colmean = colmean.round()\n",
        "  Indxs = np.where(np.isnan(x))\n",
        "  x[Indxs] = np.take(colmean, Indxs[1])\n",
        "  if isinteger(x).all():\n",
        "    return x.astype(int)\n",
        "  return x\n",
        "\n",
        "x = np.array([[-1, 2, 3.0],\n",
        "              [3, np.nan, 5],\n",
        "              [6, 7, np.nan]])\n",
        "l = ex6(x)\n",
        "res = np.array([[-1, 2, 3],\n",
        "                [3, 4, 5],\n",
        "                [6, 7,  7]])\n",
        "assert l.dtype == np.int64\n",
        "assert np.allclose(l, res)\n",
        "\n",
        "x = np.array([[-1, 2, 3.0],\n",
        "              [3.3, np.nan, 5],\n",
        "              [6, 7, np.nan]])\n",
        "l = ex6(x)\n",
        "res = np.array([[-1. ,  2. ,  3. ],\n",
        "                [ 3.3,  4. ,  5. ],\n",
        "                [ 6. ,  7. ,  7. ]])\n",
        "assert l.dtype == np.float64\n",
        "assert np.allclose(l, res)\n"
      ]
    },
    {
      "cell_type": "markdown",
      "metadata": {
        "id": "aQ2YXZSJHzF5"
      },
      "source": [
        "### Задание 7 (1.5 балла)"
      ]
    },
    {
      "cell_type": "markdown",
      "metadata": {
        "id": "1O6pGPL-HzF5"
      },
      "source": [
        "С помощью библиотеки `numba` и декоратора `numba.njit` реализуйте функцию, которая для заданной матрицы, состоящей из положительных чисел, выполняет следующее:\n",
        "\n",
        "1) Все нулевые элементы массива заменяются на случайное целое число от 0 до 100 (без создания копии массива);\n",
        "\n",
        "2) Возвращает среднее значение квадратных корней элементов матрицы (то есть значение $K = \\frac{1}{N\\cdot M}\\sum_{i=1}^N \\sum_{j=1}^M \\sqrt{x_{ij}}$);\n",
        "\n",
        "Сравните скорость работы функции с декоратором и без декоратора. Попробуйте также задать разные значения `parallel` и `fastmath` при использовании декоратора. Опишите, как это влияет на скорость работы и попробуйте предположить, почему получаются такие результаты.\n",
        "\n",
        "Матрица $X$ задана следующим образом:"
      ]
    },
    {
      "cell_type": "code",
      "execution_count": 471,
      "metadata": {
        "collapsed": true,
        "colab": {
          "base_uri": "https://localhost:8080/"
        },
        "id": "UjGp1v_RHzF5",
        "outputId": "9248e17a-7cf4-4819-9d9f-d8ef4b080830"
      },
      "outputs": [
        {
          "output_type": "execute_result",
          "data": {
            "text/plain": [
              "array([[357, 741, 979, ..., 217, 606, 550],\n",
              "       [554, 317, 343, ..., 826, 854, 937],\n",
              "       [374,  26, 292, ..., 681, 918,  70],\n",
              "       ...,\n",
              "       [872, 986, 559, ..., 472,  94, 674],\n",
              "       [863, 821, 432, ..., 883, 863, 533],\n",
              "       [ 55, 823, 894, ..., 165, 520, 666]])"
            ]
          },
          "metadata": {},
          "execution_count": 471
        }
      ],
      "source": [
        "X = np.random.randint(0, 1000, size=(1000, 100))\n",
        "X"
      ]
    },
    {
      "cell_type": "markdown",
      "metadata": {
        "id": "ko1-DP3pHzF6"
      },
      "source": [
        "$\\textbf{Важно:}$ Попробуйте решить задачу без использования циклов. Если не получается сделать решение без циклов, то приведите реализацию с циклами. Подробно опишите полученные результаты, за отсутствие интерпретации будут снижаться баллы."
      ]
    },
    {
      "cell_type": "code",
      "source": [
        "import numba\n"
      ],
      "metadata": {
        "id": "A9CNGeBMvcgk"
      },
      "execution_count": 472,
      "outputs": []
    },
    {
      "cell_type": "code",
      "source": [
        "@numba.njit\n",
        "def ex7_bebe(X):\n",
        "  mask = X==0\n",
        "  mask = np.asarray(mask)\n",
        "  values = np.random.randint(0, 100, size=(1000, 100))\n",
        "  values = np.atleast_1d(np.asarray(values))\n",
        "  \n",
        "  for idx in range(a.size):\n",
        "      if mask.flat[idx]:\n",
        "          X.flat[idx] = values.flat[idx % len(values)]\n",
        "\n",
        "  return np.sum(np.sqrt(X))/(X.shape[0]*X.shape[1])"
      ],
      "metadata": {
        "id": "r7-2zCyUz3oH"
      },
      "execution_count": 473,
      "outputs": []
    },
    {
      "cell_type": "code",
      "execution_count": 474,
      "metadata": {
        "collapsed": true,
        "id": "_ap9YA7DHzF6"
      },
      "outputs": [],
      "source": [
        "def ex7(X):\n",
        "  mask = X==0\n",
        "  o = np.copy(X)\n",
        "  np.putmask(X, mask, np.random.randint(0, 100, size=(1000, 100)))\n",
        "  return np.sum(np.sqrt(X))/(X.shape[0]*X.shape[1])\n"
      ]
    },
    {
      "cell_type": "code",
      "source": [
        "%%timeit\n",
        "X = np.random.randint(0, 1000, size=(1000, 100))\n",
        "ex7(X)"
      ],
      "metadata": {
        "colab": {
          "base_uri": "https://localhost:8080/"
        },
        "id": "zR3sY9meuiHF",
        "outputId": "6fc41e0d-9c7e-4ad4-b00b-2a2a9e808deb"
      },
      "execution_count": 475,
      "outputs": [
        {
          "output_type": "stream",
          "name": "stdout",
          "text": [
            "2.4 ms ± 62.8 µs per loop (mean ± std. dev. of 7 runs, 100 loops each)\n"
          ]
        }
      ]
    },
    {
      "cell_type": "markdown",
      "source": [
        "Заменю-ка я np.putmask на функцию практически из Numba https://github.com/numba/numba/issues/7374  \n",
        "https://github.com/numba/numba/pull/5789 \n"
      ],
      "metadata": {
        "id": "6yU4k8EK1l5w"
      }
    },
    {
      "cell_type": "code",
      "source": [
        "@numba.njit\n",
        "def ex7_1(X):\n",
        "  mask = X==0\n",
        "  mask = np.asarray(mask)\n",
        "  values = np.random.randint(0, 100, size=(1000, 100))\n",
        "  values = np.atleast_1d(np.asarray(values))\n",
        "  \n",
        "  for idx in range(a.size):\n",
        "      if mask.flat[idx]:\n",
        "          X.flat[idx] = values.flat[idx % len(values)]\n",
        "\n",
        "  return np.sum(np.sqrt(X))/(X.shape[0]*X.shape[1])\n"
      ],
      "metadata": {
        "id": "FdZUTL1GuU3T"
      },
      "execution_count": 476,
      "outputs": []
    },
    {
      "cell_type": "code",
      "source": [
        "%%timeit\n",
        "X = np.random.randint(0, 1000, size=(1000, 100))\n",
        "ex7_1(X)"
      ],
      "metadata": {
        "colab": {
          "base_uri": "https://localhost:8080/"
        },
        "id": "KeSgIwJ0whjJ",
        "outputId": "9e50fd7f-c07f-4f4c-cc7b-1227924c7078"
      },
      "execution_count": 477,
      "outputs": [
        {
          "output_type": "stream",
          "name": "stdout",
          "text": [
            "1.91 ms ± 35.7 µs per loop (mean ± std. dev. of 7 runs, 1 loop each)\n"
          ]
        }
      ]
    },
    {
      "cell_type": "code",
      "source": [
        "@numba.njit(parallel = True)\n",
        "def ex7_2(X):\n",
        "  mask = X==0\n",
        "  mask = np.asarray(mask)\n",
        "  values = np.random.randint(0, 100, size=(1000, 100))\n",
        "  values = np.atleast_1d(np.asarray(values))\n",
        "  \n",
        "  for idx in range(a.size):\n",
        "      if mask.flat[idx]:\n",
        "          X.flat[idx] = values.flat[idx % len(values)]\n",
        "\n",
        "  return np.sum(np.sqrt(X))/(X.shape[0]*X.shape[1])\n"
      ],
      "metadata": {
        "id": "9eRiNB3wyrI8"
      },
      "execution_count": 478,
      "outputs": []
    },
    {
      "cell_type": "code",
      "source": [
        "%%timeit\n",
        "X = np.random.randint(0, 1000, size=(1000, 100))\n",
        "ex7_2(X)"
      ],
      "metadata": {
        "colab": {
          "base_uri": "https://localhost:8080/"
        },
        "id": "XNYOLCuq0H6x",
        "outputId": "17f32b45-0b90-4c40-fe03-d38aac04d14e"
      },
      "execution_count": 479,
      "outputs": [
        {
          "output_type": "stream",
          "name": "stdout",
          "text": [
            "1.86 ms ± 67.1 µs per loop (mean ± std. dev. of 7 runs, 1 loop each)\n"
          ]
        }
      ]
    },
    {
      "cell_type": "code",
      "source": [
        "@numba.njit(fastmath = True)\n",
        "def ex7_3(X):\n",
        "  mask = X==0\n",
        "  mask = np.asarray(mask)\n",
        "  values = np.random.randint(0, 100, size=(1000, 100))\n",
        "  values = np.atleast_1d(np.asarray(values))\n",
        "  \n",
        "  for idx in range(a.size):\n",
        "      if mask.flat[idx]:\n",
        "          X.flat[idx] = values.flat[idx % len(values)]\n",
        "\n",
        "  return np.sum(np.sqrt(X))/(X.shape[0]*X.shape[1])\n"
      ],
      "metadata": {
        "id": "VXMp4Emw0RA6"
      },
      "execution_count": 480,
      "outputs": []
    },
    {
      "cell_type": "code",
      "source": [
        "%%timeit\n",
        "X = np.random.randint(0, 1000, size=(1000, 100))\n",
        "ex7_3(X)"
      ],
      "metadata": {
        "colab": {
          "base_uri": "https://localhost:8080/"
        },
        "id": "na8NLnu80aqz",
        "outputId": "41d66c04-5950-4b65-8228-17577127ee20"
      },
      "execution_count": 481,
      "outputs": [
        {
          "output_type": "stream",
          "name": "stdout",
          "text": [
            "2.13 ms ± 387 µs per loop (mean ± std. dev. of 7 runs, 1 loop each)\n"
          ]
        }
      ]
    },
    {
      "cell_type": "code",
      "source": [
        "@numba.njit(fastmath = True, parallel = True)\n",
        "def ex7_4(X):\n",
        "  mask = X==0\n",
        "  mask = np.asarray(mask)\n",
        "  values = np.random.randint(0, 100, size=(1000, 100))\n",
        "  values = np.atleast_1d(np.asarray(values))\n",
        "  \n",
        "  for idx in range(a.size):\n",
        "      if mask.flat[idx]:\n",
        "          X.flat[idx] = values.flat[idx % len(values)]\n",
        "\n",
        "  return np.sum(np.sqrt(X))/(X.shape[0]*X.shape[1])"
      ],
      "metadata": {
        "id": "1XPdSDXY1N-7"
      },
      "execution_count": 482,
      "outputs": []
    },
    {
      "cell_type": "code",
      "source": [
        "%%timeit\n",
        "X = np.random.randint(0, 1000, size=(1000, 100))\n",
        "ex7_4(X)"
      ],
      "metadata": {
        "colab": {
          "base_uri": "https://localhost:8080/"
        },
        "id": "ji87MsoD1Usx",
        "outputId": "44c8bf84-f2be-4bc6-ba88-1f742879b5f1"
      },
      "execution_count": 483,
      "outputs": [
        {
          "output_type": "stream",
          "name": "stdout",
          "text": [
            "1.79 ms ± 106 µs per loop (mean ± std. dev. of 7 runs, 1 loop each)\n"
          ]
        }
      ]
    },
    {
      "cell_type": "markdown",
      "source": [
        "Мои выводы: при parallel = True вычисление идет параллельно, что ускоряет работу  \n",
        "При fastmath скорость чуть увеличивается, в силу упрощения порядка вычислений\n",
        "Однако бывало, что при этих аргументах функция работала медленее  \n",
        "Не знаю, как объяснить"
      ],
      "metadata": {
        "id": "XPKVdZzZ27iB"
      }
    },
    {
      "cell_type": "markdown",
      "metadata": {
        "id": "SkxWNkyRHzF6"
      },
      "source": [
        "## Pandas"
      ]
    },
    {
      "cell_type": "markdown",
      "metadata": {
        "id": "33DEB5O_HzF7"
      },
      "source": [
        "Для выполнения следующих заданий нам потребуется датасет `iris`:"
      ]
    },
    {
      "cell_type": "code",
      "execution_count": 484,
      "metadata": {
        "ExecuteTime": {
          "end_time": "2021-10-07T11:12:28.357900Z",
          "start_time": "2021-10-07T11:12:26.060729Z"
        },
        "colab": {
          "base_uri": "https://localhost:8080/",
          "height": 206
        },
        "id": "U3bwfW5HHzF7",
        "outputId": "9263ba14-16ff-4169-c3a5-facc072747bd"
      },
      "outputs": [
        {
          "output_type": "execute_result",
          "data": {
            "text/plain": [
              "   sepal_length  sepal_width  petal_length  petal_width species\n",
              "0           5.1          3.5           1.4          0.2  setosa\n",
              "1           4.9          3.0           1.4          0.2  setosa\n",
              "2           4.7          3.2           1.3          0.2  setosa\n",
              "3           4.6          3.1           1.5          0.2  setosa\n",
              "4           5.0          3.6           1.4          0.2  setosa"
            ],
            "text/html": [
              "\n",
              "  <div id=\"df-d28eee87-d856-4e35-a4d1-489e442eb799\">\n",
              "    <div class=\"colab-df-container\">\n",
              "      <div>\n",
              "<style scoped>\n",
              "    .dataframe tbody tr th:only-of-type {\n",
              "        vertical-align: middle;\n",
              "    }\n",
              "\n",
              "    .dataframe tbody tr th {\n",
              "        vertical-align: top;\n",
              "    }\n",
              "\n",
              "    .dataframe thead th {\n",
              "        text-align: right;\n",
              "    }\n",
              "</style>\n",
              "<table border=\"1\" class=\"dataframe\">\n",
              "  <thead>\n",
              "    <tr style=\"text-align: right;\">\n",
              "      <th></th>\n",
              "      <th>sepal_length</th>\n",
              "      <th>sepal_width</th>\n",
              "      <th>petal_length</th>\n",
              "      <th>petal_width</th>\n",
              "      <th>species</th>\n",
              "    </tr>\n",
              "  </thead>\n",
              "  <tbody>\n",
              "    <tr>\n",
              "      <th>0</th>\n",
              "      <td>5.1</td>\n",
              "      <td>3.5</td>\n",
              "      <td>1.4</td>\n",
              "      <td>0.2</td>\n",
              "      <td>setosa</td>\n",
              "    </tr>\n",
              "    <tr>\n",
              "      <th>1</th>\n",
              "      <td>4.9</td>\n",
              "      <td>3.0</td>\n",
              "      <td>1.4</td>\n",
              "      <td>0.2</td>\n",
              "      <td>setosa</td>\n",
              "    </tr>\n",
              "    <tr>\n",
              "      <th>2</th>\n",
              "      <td>4.7</td>\n",
              "      <td>3.2</td>\n",
              "      <td>1.3</td>\n",
              "      <td>0.2</td>\n",
              "      <td>setosa</td>\n",
              "    </tr>\n",
              "    <tr>\n",
              "      <th>3</th>\n",
              "      <td>4.6</td>\n",
              "      <td>3.1</td>\n",
              "      <td>1.5</td>\n",
              "      <td>0.2</td>\n",
              "      <td>setosa</td>\n",
              "    </tr>\n",
              "    <tr>\n",
              "      <th>4</th>\n",
              "      <td>5.0</td>\n",
              "      <td>3.6</td>\n",
              "      <td>1.4</td>\n",
              "      <td>0.2</td>\n",
              "      <td>setosa</td>\n",
              "    </tr>\n",
              "  </tbody>\n",
              "</table>\n",
              "</div>\n",
              "      <button class=\"colab-df-convert\" onclick=\"convertToInteractive('df-d28eee87-d856-4e35-a4d1-489e442eb799')\"\n",
              "              title=\"Convert this dataframe to an interactive table.\"\n",
              "              style=\"display:none;\">\n",
              "        \n",
              "  <svg xmlns=\"http://www.w3.org/2000/svg\" height=\"24px\"viewBox=\"0 0 24 24\"\n",
              "       width=\"24px\">\n",
              "    <path d=\"M0 0h24v24H0V0z\" fill=\"none\"/>\n",
              "    <path d=\"M18.56 5.44l.94 2.06.94-2.06 2.06-.94-2.06-.94-.94-2.06-.94 2.06-2.06.94zm-11 1L8.5 8.5l.94-2.06 2.06-.94-2.06-.94L8.5 2.5l-.94 2.06-2.06.94zm10 10l.94 2.06.94-2.06 2.06-.94-2.06-.94-.94-2.06-.94 2.06-2.06.94z\"/><path d=\"M17.41 7.96l-1.37-1.37c-.4-.4-.92-.59-1.43-.59-.52 0-1.04.2-1.43.59L10.3 9.45l-7.72 7.72c-.78.78-.78 2.05 0 2.83L4 21.41c.39.39.9.59 1.41.59.51 0 1.02-.2 1.41-.59l7.78-7.78 2.81-2.81c.8-.78.8-2.07 0-2.86zM5.41 20L4 18.59l7.72-7.72 1.47 1.35L5.41 20z\"/>\n",
              "  </svg>\n",
              "      </button>\n",
              "      \n",
              "  <style>\n",
              "    .colab-df-container {\n",
              "      display:flex;\n",
              "      flex-wrap:wrap;\n",
              "      gap: 12px;\n",
              "    }\n",
              "\n",
              "    .colab-df-convert {\n",
              "      background-color: #E8F0FE;\n",
              "      border: none;\n",
              "      border-radius: 50%;\n",
              "      cursor: pointer;\n",
              "      display: none;\n",
              "      fill: #1967D2;\n",
              "      height: 32px;\n",
              "      padding: 0 0 0 0;\n",
              "      width: 32px;\n",
              "    }\n",
              "\n",
              "    .colab-df-convert:hover {\n",
              "      background-color: #E2EBFA;\n",
              "      box-shadow: 0px 1px 2px rgba(60, 64, 67, 0.3), 0px 1px 3px 1px rgba(60, 64, 67, 0.15);\n",
              "      fill: #174EA6;\n",
              "    }\n",
              "\n",
              "    [theme=dark] .colab-df-convert {\n",
              "      background-color: #3B4455;\n",
              "      fill: #D2E3FC;\n",
              "    }\n",
              "\n",
              "    [theme=dark] .colab-df-convert:hover {\n",
              "      background-color: #434B5C;\n",
              "      box-shadow: 0px 1px 3px 1px rgba(0, 0, 0, 0.15);\n",
              "      filter: drop-shadow(0px 1px 2px rgba(0, 0, 0, 0.3));\n",
              "      fill: #FFFFFF;\n",
              "    }\n",
              "  </style>\n",
              "\n",
              "      <script>\n",
              "        const buttonEl =\n",
              "          document.querySelector('#df-d28eee87-d856-4e35-a4d1-489e442eb799 button.colab-df-convert');\n",
              "        buttonEl.style.display =\n",
              "          google.colab.kernel.accessAllowed ? 'block' : 'none';\n",
              "\n",
              "        async function convertToInteractive(key) {\n",
              "          const element = document.querySelector('#df-d28eee87-d856-4e35-a4d1-489e442eb799');\n",
              "          const dataTable =\n",
              "            await google.colab.kernel.invokeFunction('convertToInteractive',\n",
              "                                                     [key], {});\n",
              "          if (!dataTable) return;\n",
              "\n",
              "          const docLinkHtml = 'Like what you see? Visit the ' +\n",
              "            '<a target=\"_blank\" href=https://colab.research.google.com/notebooks/data_table.ipynb>data table notebook</a>'\n",
              "            + ' to learn more about interactive tables.';\n",
              "          element.innerHTML = '';\n",
              "          dataTable['output_type'] = 'display_data';\n",
              "          await google.colab.output.renderOutput(dataTable, element);\n",
              "          const docLink = document.createElement('div');\n",
              "          docLink.innerHTML = docLinkHtml;\n",
              "          element.appendChild(docLink);\n",
              "        }\n",
              "      </script>\n",
              "    </div>\n",
              "  </div>\n",
              "  "
            ]
          },
          "metadata": {},
          "execution_count": 484
        }
      ],
      "source": [
        "import pandas as pd\n",
        "import seaborn as sns\n",
        "\n",
        "iris = sns.load_dataset('iris')\n",
        "iris.head()"
      ]
    },
    {
      "cell_type": "markdown",
      "metadata": {
        "id": "UBvti_BaHzF7"
      },
      "source": [
        "### Задание 1 (0.25 балла)"
      ]
    },
    {
      "cell_type": "markdown",
      "metadata": {
        "id": "TYR6fStvHzF7"
      },
      "source": [
        "Для столбца `sepal_length` посчитайте среднее значение, среднее квадратичное отклонение и медиану по каждому классу из `species`."
      ]
    },
    {
      "cell_type": "code",
      "execution_count": 485,
      "metadata": {
        "collapsed": true,
        "colab": {
          "base_uri": "https://localhost:8080/"
        },
        "id": "ELxKEmSFHzF8",
        "outputId": "d9fb8392-e099-4de8-faf4-6c04c041d874"
      },
      "outputs": [
        {
          "output_type": "stream",
          "name": "stdout",
          "text": [
            "setosa mean length: 5.006\n",
            "setosa std length: 0.35248968721345136\n",
            "setosa median length: 5.0\n",
            "versicolor mean length: 5.936\n",
            "versicolor std length: 0.5161711470638634\n",
            "versicolor median length: 5.9\n",
            "virginica mean length: 6.587999999999998\n",
            "virginica std length: 0.6358795932744322\n",
            "virginica median length: 6.5\n"
          ]
        }
      ],
      "source": [
        "species_un = iris[\"species\"].unique()\n",
        "species_un\n",
        "for spec in species_un:\n",
        "  cur = iris[iris['species']==spec]['sepal_length']\n",
        "  print(f\"{spec} mean length: {cur.mean()}\")\n",
        "  print(f\"{spec} std length: {cur.std()}\")\n",
        "  print(f\"{spec} median length: {cur.median()}\")"
      ]
    },
    {
      "cell_type": "markdown",
      "metadata": {
        "id": "EJI6i_tiHzF8"
      },
      "source": [
        "### Задание 2 (0.25 балла)"
      ]
    },
    {
      "cell_type": "markdown",
      "metadata": {
        "id": "lsjVbRC2HzF8"
      },
      "source": [
        "Посчитайте количество строк в датасете, которое удовлетворяет условию: `species == 'setosa'` и `sepal_width > 3.2`"
      ]
    },
    {
      "cell_type": "code",
      "execution_count": 486,
      "metadata": {
        "collapsed": true,
        "colab": {
          "base_uri": "https://localhost:8080/"
        },
        "id": "rgR75b3lHzF9",
        "outputId": "e8ae0fc8-95a0-4cbc-cf79-075633dc52f5"
      },
      "outputs": [
        {
          "output_type": "execute_result",
          "data": {
            "text/plain": [
              "33"
            ]
          },
          "metadata": {},
          "execution_count": 486
        }
      ],
      "source": [
        "len(iris.loc[(iris[\"species\"] == 'setosa') & (iris[\"sepal_width\"] > 3.2)])"
      ]
    },
    {
      "cell_type": "markdown",
      "metadata": {
        "id": "t3NgeFicHzF9"
      },
      "source": [
        "### Задание 3 (0.5 балла)"
      ]
    },
    {
      "cell_type": "markdown",
      "metadata": {
        "id": "9o0zR-x2HzF-"
      },
      "source": [
        "Реализуйте функцию, которая возвращает датасет, в котором нет строк с одновременно одинаковыми значениями `sepal_width` и `species`"
      ]
    },
    {
      "cell_type": "code",
      "execution_count": 487,
      "metadata": {
        "collapsed": true,
        "colab": {
          "base_uri": "https://localhost:8080/",
          "height": 1000
        },
        "id": "bL0JtrefHzF-",
        "outputId": "a3edf744-c81d-4b37-c809-0c731380e69d"
      },
      "outputs": [
        {
          "output_type": "execute_result",
          "data": {
            "text/plain": [
              "     sepal_length  sepal_width  petal_length  petal_width     species\n",
              "0             5.1          3.5           1.4          0.2      setosa\n",
              "1             4.9          3.0           1.4          0.2      setosa\n",
              "2             4.7          3.2           1.3          0.2      setosa\n",
              "3             4.6          3.1           1.5          0.2      setosa\n",
              "4             5.0          3.6           1.4          0.2      setosa\n",
              "5             5.4          3.9           1.7          0.4      setosa\n",
              "6             4.6          3.4           1.4          0.3      setosa\n",
              "8             4.4          2.9           1.4          0.2      setosa\n",
              "10            5.4          3.7           1.5          0.2      setosa\n",
              "14            5.8          4.0           1.2          0.2      setosa\n",
              "15            5.7          4.4           1.5          0.4      setosa\n",
              "18            5.7          3.8           1.7          0.3      setosa\n",
              "23            5.1          3.3           1.7          0.5      setosa\n",
              "32            5.2          4.1           1.5          0.1      setosa\n",
              "33            5.5          4.2           1.4          0.2      setosa\n",
              "41            4.5          2.3           1.3          0.3      setosa\n",
              "50            7.0          3.2           4.7          1.4  versicolor\n",
              "52            6.9          3.1           4.9          1.5  versicolor\n",
              "53            5.5          2.3           4.0          1.3  versicolor\n",
              "54            6.5          2.8           4.6          1.5  versicolor\n",
              "56            6.3          3.3           4.7          1.6  versicolor\n",
              "57            4.9          2.4           3.3          1.0  versicolor\n",
              "58            6.6          2.9           4.6          1.3  versicolor\n",
              "59            5.2          2.7           3.9          1.4  versicolor\n",
              "60            5.0          2.0           3.5          1.0  versicolor\n",
              "61            5.9          3.0           4.2          1.5  versicolor\n",
              "62            6.0          2.2           4.0          1.0  versicolor\n",
              "69            5.6          2.5           3.9          1.1  versicolor\n",
              "79            5.7          2.6           3.5          1.0  versicolor\n",
              "85            6.0          3.4           4.5          1.6  versicolor\n",
              "100           6.3          3.3           6.0          2.5   virginica\n",
              "101           5.8          2.7           5.1          1.9   virginica\n",
              "102           7.1          3.0           5.9          2.1   virginica\n",
              "103           6.3          2.9           5.6          1.8   virginica\n",
              "106           4.9          2.5           4.5          1.7   virginica\n",
              "109           7.2          3.6           6.1          2.5   virginica\n",
              "110           6.5          3.2           5.1          2.0   virginica\n",
              "114           5.8          2.8           5.1          2.4   virginica\n",
              "117           7.7          3.8           6.7          2.2   virginica\n",
              "118           7.7          2.6           6.9          2.3   virginica\n",
              "119           6.0          2.2           5.0          1.5   virginica\n",
              "136           6.3          3.4           5.6          2.4   virginica\n",
              "137           6.4          3.1           5.5          1.8   virginica"
            ],
            "text/html": [
              "\n",
              "  <div id=\"df-b96ffcff-8440-4ab7-a071-bb98bf1f76cc\">\n",
              "    <div class=\"colab-df-container\">\n",
              "      <div>\n",
              "<style scoped>\n",
              "    .dataframe tbody tr th:only-of-type {\n",
              "        vertical-align: middle;\n",
              "    }\n",
              "\n",
              "    .dataframe tbody tr th {\n",
              "        vertical-align: top;\n",
              "    }\n",
              "\n",
              "    .dataframe thead th {\n",
              "        text-align: right;\n",
              "    }\n",
              "</style>\n",
              "<table border=\"1\" class=\"dataframe\">\n",
              "  <thead>\n",
              "    <tr style=\"text-align: right;\">\n",
              "      <th></th>\n",
              "      <th>sepal_length</th>\n",
              "      <th>sepal_width</th>\n",
              "      <th>petal_length</th>\n",
              "      <th>petal_width</th>\n",
              "      <th>species</th>\n",
              "    </tr>\n",
              "  </thead>\n",
              "  <tbody>\n",
              "    <tr>\n",
              "      <th>0</th>\n",
              "      <td>5.1</td>\n",
              "      <td>3.5</td>\n",
              "      <td>1.4</td>\n",
              "      <td>0.2</td>\n",
              "      <td>setosa</td>\n",
              "    </tr>\n",
              "    <tr>\n",
              "      <th>1</th>\n",
              "      <td>4.9</td>\n",
              "      <td>3.0</td>\n",
              "      <td>1.4</td>\n",
              "      <td>0.2</td>\n",
              "      <td>setosa</td>\n",
              "    </tr>\n",
              "    <tr>\n",
              "      <th>2</th>\n",
              "      <td>4.7</td>\n",
              "      <td>3.2</td>\n",
              "      <td>1.3</td>\n",
              "      <td>0.2</td>\n",
              "      <td>setosa</td>\n",
              "    </tr>\n",
              "    <tr>\n",
              "      <th>3</th>\n",
              "      <td>4.6</td>\n",
              "      <td>3.1</td>\n",
              "      <td>1.5</td>\n",
              "      <td>0.2</td>\n",
              "      <td>setosa</td>\n",
              "    </tr>\n",
              "    <tr>\n",
              "      <th>4</th>\n",
              "      <td>5.0</td>\n",
              "      <td>3.6</td>\n",
              "      <td>1.4</td>\n",
              "      <td>0.2</td>\n",
              "      <td>setosa</td>\n",
              "    </tr>\n",
              "    <tr>\n",
              "      <th>5</th>\n",
              "      <td>5.4</td>\n",
              "      <td>3.9</td>\n",
              "      <td>1.7</td>\n",
              "      <td>0.4</td>\n",
              "      <td>setosa</td>\n",
              "    </tr>\n",
              "    <tr>\n",
              "      <th>6</th>\n",
              "      <td>4.6</td>\n",
              "      <td>3.4</td>\n",
              "      <td>1.4</td>\n",
              "      <td>0.3</td>\n",
              "      <td>setosa</td>\n",
              "    </tr>\n",
              "    <tr>\n",
              "      <th>8</th>\n",
              "      <td>4.4</td>\n",
              "      <td>2.9</td>\n",
              "      <td>1.4</td>\n",
              "      <td>0.2</td>\n",
              "      <td>setosa</td>\n",
              "    </tr>\n",
              "    <tr>\n",
              "      <th>10</th>\n",
              "      <td>5.4</td>\n",
              "      <td>3.7</td>\n",
              "      <td>1.5</td>\n",
              "      <td>0.2</td>\n",
              "      <td>setosa</td>\n",
              "    </tr>\n",
              "    <tr>\n",
              "      <th>14</th>\n",
              "      <td>5.8</td>\n",
              "      <td>4.0</td>\n",
              "      <td>1.2</td>\n",
              "      <td>0.2</td>\n",
              "      <td>setosa</td>\n",
              "    </tr>\n",
              "    <tr>\n",
              "      <th>15</th>\n",
              "      <td>5.7</td>\n",
              "      <td>4.4</td>\n",
              "      <td>1.5</td>\n",
              "      <td>0.4</td>\n",
              "      <td>setosa</td>\n",
              "    </tr>\n",
              "    <tr>\n",
              "      <th>18</th>\n",
              "      <td>5.7</td>\n",
              "      <td>3.8</td>\n",
              "      <td>1.7</td>\n",
              "      <td>0.3</td>\n",
              "      <td>setosa</td>\n",
              "    </tr>\n",
              "    <tr>\n",
              "      <th>23</th>\n",
              "      <td>5.1</td>\n",
              "      <td>3.3</td>\n",
              "      <td>1.7</td>\n",
              "      <td>0.5</td>\n",
              "      <td>setosa</td>\n",
              "    </tr>\n",
              "    <tr>\n",
              "      <th>32</th>\n",
              "      <td>5.2</td>\n",
              "      <td>4.1</td>\n",
              "      <td>1.5</td>\n",
              "      <td>0.1</td>\n",
              "      <td>setosa</td>\n",
              "    </tr>\n",
              "    <tr>\n",
              "      <th>33</th>\n",
              "      <td>5.5</td>\n",
              "      <td>4.2</td>\n",
              "      <td>1.4</td>\n",
              "      <td>0.2</td>\n",
              "      <td>setosa</td>\n",
              "    </tr>\n",
              "    <tr>\n",
              "      <th>41</th>\n",
              "      <td>4.5</td>\n",
              "      <td>2.3</td>\n",
              "      <td>1.3</td>\n",
              "      <td>0.3</td>\n",
              "      <td>setosa</td>\n",
              "    </tr>\n",
              "    <tr>\n",
              "      <th>50</th>\n",
              "      <td>7.0</td>\n",
              "      <td>3.2</td>\n",
              "      <td>4.7</td>\n",
              "      <td>1.4</td>\n",
              "      <td>versicolor</td>\n",
              "    </tr>\n",
              "    <tr>\n",
              "      <th>52</th>\n",
              "      <td>6.9</td>\n",
              "      <td>3.1</td>\n",
              "      <td>4.9</td>\n",
              "      <td>1.5</td>\n",
              "      <td>versicolor</td>\n",
              "    </tr>\n",
              "    <tr>\n",
              "      <th>53</th>\n",
              "      <td>5.5</td>\n",
              "      <td>2.3</td>\n",
              "      <td>4.0</td>\n",
              "      <td>1.3</td>\n",
              "      <td>versicolor</td>\n",
              "    </tr>\n",
              "    <tr>\n",
              "      <th>54</th>\n",
              "      <td>6.5</td>\n",
              "      <td>2.8</td>\n",
              "      <td>4.6</td>\n",
              "      <td>1.5</td>\n",
              "      <td>versicolor</td>\n",
              "    </tr>\n",
              "    <tr>\n",
              "      <th>56</th>\n",
              "      <td>6.3</td>\n",
              "      <td>3.3</td>\n",
              "      <td>4.7</td>\n",
              "      <td>1.6</td>\n",
              "      <td>versicolor</td>\n",
              "    </tr>\n",
              "    <tr>\n",
              "      <th>57</th>\n",
              "      <td>4.9</td>\n",
              "      <td>2.4</td>\n",
              "      <td>3.3</td>\n",
              "      <td>1.0</td>\n",
              "      <td>versicolor</td>\n",
              "    </tr>\n",
              "    <tr>\n",
              "      <th>58</th>\n",
              "      <td>6.6</td>\n",
              "      <td>2.9</td>\n",
              "      <td>4.6</td>\n",
              "      <td>1.3</td>\n",
              "      <td>versicolor</td>\n",
              "    </tr>\n",
              "    <tr>\n",
              "      <th>59</th>\n",
              "      <td>5.2</td>\n",
              "      <td>2.7</td>\n",
              "      <td>3.9</td>\n",
              "      <td>1.4</td>\n",
              "      <td>versicolor</td>\n",
              "    </tr>\n",
              "    <tr>\n",
              "      <th>60</th>\n",
              "      <td>5.0</td>\n",
              "      <td>2.0</td>\n",
              "      <td>3.5</td>\n",
              "      <td>1.0</td>\n",
              "      <td>versicolor</td>\n",
              "    </tr>\n",
              "    <tr>\n",
              "      <th>61</th>\n",
              "      <td>5.9</td>\n",
              "      <td>3.0</td>\n",
              "      <td>4.2</td>\n",
              "      <td>1.5</td>\n",
              "      <td>versicolor</td>\n",
              "    </tr>\n",
              "    <tr>\n",
              "      <th>62</th>\n",
              "      <td>6.0</td>\n",
              "      <td>2.2</td>\n",
              "      <td>4.0</td>\n",
              "      <td>1.0</td>\n",
              "      <td>versicolor</td>\n",
              "    </tr>\n",
              "    <tr>\n",
              "      <th>69</th>\n",
              "      <td>5.6</td>\n",
              "      <td>2.5</td>\n",
              "      <td>3.9</td>\n",
              "      <td>1.1</td>\n",
              "      <td>versicolor</td>\n",
              "    </tr>\n",
              "    <tr>\n",
              "      <th>79</th>\n",
              "      <td>5.7</td>\n",
              "      <td>2.6</td>\n",
              "      <td>3.5</td>\n",
              "      <td>1.0</td>\n",
              "      <td>versicolor</td>\n",
              "    </tr>\n",
              "    <tr>\n",
              "      <th>85</th>\n",
              "      <td>6.0</td>\n",
              "      <td>3.4</td>\n",
              "      <td>4.5</td>\n",
              "      <td>1.6</td>\n",
              "      <td>versicolor</td>\n",
              "    </tr>\n",
              "    <tr>\n",
              "      <th>100</th>\n",
              "      <td>6.3</td>\n",
              "      <td>3.3</td>\n",
              "      <td>6.0</td>\n",
              "      <td>2.5</td>\n",
              "      <td>virginica</td>\n",
              "    </tr>\n",
              "    <tr>\n",
              "      <th>101</th>\n",
              "      <td>5.8</td>\n",
              "      <td>2.7</td>\n",
              "      <td>5.1</td>\n",
              "      <td>1.9</td>\n",
              "      <td>virginica</td>\n",
              "    </tr>\n",
              "    <tr>\n",
              "      <th>102</th>\n",
              "      <td>7.1</td>\n",
              "      <td>3.0</td>\n",
              "      <td>5.9</td>\n",
              "      <td>2.1</td>\n",
              "      <td>virginica</td>\n",
              "    </tr>\n",
              "    <tr>\n",
              "      <th>103</th>\n",
              "      <td>6.3</td>\n",
              "      <td>2.9</td>\n",
              "      <td>5.6</td>\n",
              "      <td>1.8</td>\n",
              "      <td>virginica</td>\n",
              "    </tr>\n",
              "    <tr>\n",
              "      <th>106</th>\n",
              "      <td>4.9</td>\n",
              "      <td>2.5</td>\n",
              "      <td>4.5</td>\n",
              "      <td>1.7</td>\n",
              "      <td>virginica</td>\n",
              "    </tr>\n",
              "    <tr>\n",
              "      <th>109</th>\n",
              "      <td>7.2</td>\n",
              "      <td>3.6</td>\n",
              "      <td>6.1</td>\n",
              "      <td>2.5</td>\n",
              "      <td>virginica</td>\n",
              "    </tr>\n",
              "    <tr>\n",
              "      <th>110</th>\n",
              "      <td>6.5</td>\n",
              "      <td>3.2</td>\n",
              "      <td>5.1</td>\n",
              "      <td>2.0</td>\n",
              "      <td>virginica</td>\n",
              "    </tr>\n",
              "    <tr>\n",
              "      <th>114</th>\n",
              "      <td>5.8</td>\n",
              "      <td>2.8</td>\n",
              "      <td>5.1</td>\n",
              "      <td>2.4</td>\n",
              "      <td>virginica</td>\n",
              "    </tr>\n",
              "    <tr>\n",
              "      <th>117</th>\n",
              "      <td>7.7</td>\n",
              "      <td>3.8</td>\n",
              "      <td>6.7</td>\n",
              "      <td>2.2</td>\n",
              "      <td>virginica</td>\n",
              "    </tr>\n",
              "    <tr>\n",
              "      <th>118</th>\n",
              "      <td>7.7</td>\n",
              "      <td>2.6</td>\n",
              "      <td>6.9</td>\n",
              "      <td>2.3</td>\n",
              "      <td>virginica</td>\n",
              "    </tr>\n",
              "    <tr>\n",
              "      <th>119</th>\n",
              "      <td>6.0</td>\n",
              "      <td>2.2</td>\n",
              "      <td>5.0</td>\n",
              "      <td>1.5</td>\n",
              "      <td>virginica</td>\n",
              "    </tr>\n",
              "    <tr>\n",
              "      <th>136</th>\n",
              "      <td>6.3</td>\n",
              "      <td>3.4</td>\n",
              "      <td>5.6</td>\n",
              "      <td>2.4</td>\n",
              "      <td>virginica</td>\n",
              "    </tr>\n",
              "    <tr>\n",
              "      <th>137</th>\n",
              "      <td>6.4</td>\n",
              "      <td>3.1</td>\n",
              "      <td>5.5</td>\n",
              "      <td>1.8</td>\n",
              "      <td>virginica</td>\n",
              "    </tr>\n",
              "  </tbody>\n",
              "</table>\n",
              "</div>\n",
              "      <button class=\"colab-df-convert\" onclick=\"convertToInteractive('df-b96ffcff-8440-4ab7-a071-bb98bf1f76cc')\"\n",
              "              title=\"Convert this dataframe to an interactive table.\"\n",
              "              style=\"display:none;\">\n",
              "        \n",
              "  <svg xmlns=\"http://www.w3.org/2000/svg\" height=\"24px\"viewBox=\"0 0 24 24\"\n",
              "       width=\"24px\">\n",
              "    <path d=\"M0 0h24v24H0V0z\" fill=\"none\"/>\n",
              "    <path d=\"M18.56 5.44l.94 2.06.94-2.06 2.06-.94-2.06-.94-.94-2.06-.94 2.06-2.06.94zm-11 1L8.5 8.5l.94-2.06 2.06-.94-2.06-.94L8.5 2.5l-.94 2.06-2.06.94zm10 10l.94 2.06.94-2.06 2.06-.94-2.06-.94-.94-2.06-.94 2.06-2.06.94z\"/><path d=\"M17.41 7.96l-1.37-1.37c-.4-.4-.92-.59-1.43-.59-.52 0-1.04.2-1.43.59L10.3 9.45l-7.72 7.72c-.78.78-.78 2.05 0 2.83L4 21.41c.39.39.9.59 1.41.59.51 0 1.02-.2 1.41-.59l7.78-7.78 2.81-2.81c.8-.78.8-2.07 0-2.86zM5.41 20L4 18.59l7.72-7.72 1.47 1.35L5.41 20z\"/>\n",
              "  </svg>\n",
              "      </button>\n",
              "      \n",
              "  <style>\n",
              "    .colab-df-container {\n",
              "      display:flex;\n",
              "      flex-wrap:wrap;\n",
              "      gap: 12px;\n",
              "    }\n",
              "\n",
              "    .colab-df-convert {\n",
              "      background-color: #E8F0FE;\n",
              "      border: none;\n",
              "      border-radius: 50%;\n",
              "      cursor: pointer;\n",
              "      display: none;\n",
              "      fill: #1967D2;\n",
              "      height: 32px;\n",
              "      padding: 0 0 0 0;\n",
              "      width: 32px;\n",
              "    }\n",
              "\n",
              "    .colab-df-convert:hover {\n",
              "      background-color: #E2EBFA;\n",
              "      box-shadow: 0px 1px 2px rgba(60, 64, 67, 0.3), 0px 1px 3px 1px rgba(60, 64, 67, 0.15);\n",
              "      fill: #174EA6;\n",
              "    }\n",
              "\n",
              "    [theme=dark] .colab-df-convert {\n",
              "      background-color: #3B4455;\n",
              "      fill: #D2E3FC;\n",
              "    }\n",
              "\n",
              "    [theme=dark] .colab-df-convert:hover {\n",
              "      background-color: #434B5C;\n",
              "      box-shadow: 0px 1px 3px 1px rgba(0, 0, 0, 0.15);\n",
              "      filter: drop-shadow(0px 1px 2px rgba(0, 0, 0, 0.3));\n",
              "      fill: #FFFFFF;\n",
              "    }\n",
              "  </style>\n",
              "\n",
              "      <script>\n",
              "        const buttonEl =\n",
              "          document.querySelector('#df-b96ffcff-8440-4ab7-a071-bb98bf1f76cc button.colab-df-convert');\n",
              "        buttonEl.style.display =\n",
              "          google.colab.kernel.accessAllowed ? 'block' : 'none';\n",
              "\n",
              "        async function convertToInteractive(key) {\n",
              "          const element = document.querySelector('#df-b96ffcff-8440-4ab7-a071-bb98bf1f76cc');\n",
              "          const dataTable =\n",
              "            await google.colab.kernel.invokeFunction('convertToInteractive',\n",
              "                                                     [key], {});\n",
              "          if (!dataTable) return;\n",
              "\n",
              "          const docLinkHtml = 'Like what you see? Visit the ' +\n",
              "            '<a target=\"_blank\" href=https://colab.research.google.com/notebooks/data_table.ipynb>data table notebook</a>'\n",
              "            + ' to learn more about interactive tables.';\n",
              "          element.innerHTML = '';\n",
              "          dataTable['output_type'] = 'display_data';\n",
              "          await google.colab.output.renderOutput(dataTable, element);\n",
              "          const docLink = document.createElement('div');\n",
              "          docLink.innerHTML = docLinkHtml;\n",
              "          element.appendChild(docLink);\n",
              "        }\n",
              "      </script>\n",
              "    </div>\n",
              "  </div>\n",
              "  "
            ]
          },
          "metadata": {},
          "execution_count": 487
        }
      ],
      "source": [
        "iris.drop_duplicates(subset=[\"sepal_width\", \"species\"])"
      ]
    },
    {
      "cell_type": "markdown",
      "metadata": {
        "id": "87-5GxqLHzF_"
      },
      "source": [
        "### Задание 4 (0.5 балла)"
      ]
    },
    {
      "cell_type": "markdown",
      "metadata": {
        "id": "hd8NEKJKHzF_"
      },
      "source": [
        "Создайте новую колонку `width_on_length`, в которой значение формируется согласно правилу: \n",
        "\n",
        "* если species - `setosa`, то значение равно `sepal_width * sepal_length`; \n",
        "* если species - `versicolor`, то значение равно `1.5 * sepal_width * sepal_length / petal_length`;\n",
        "* иначе `np.nan`"
      ]
    },
    {
      "cell_type": "code",
      "execution_count": 488,
      "metadata": {
        "collapsed": true,
        "id": "nBMNpOshHzGA"
      },
      "outputs": [],
      "source": [
        "iris[\"width_on_length\"] = np.where(iris['species'] == \"setosa\", \n",
        "                                   iris[\"sepal_width\"] * iris[\"sepal_length\"],\n",
        "                                   np.where(iris['species'] == \"versicolor\",\n",
        "                                            1.5 * iris[\"sepal_width\"] * iris[\"sepal_length\"] / iris[\"petal_length\"],\n",
        "                                            np.nan,\n",
        "                                            ),\n",
        "                                   )"
      ]
    },
    {
      "cell_type": "code",
      "source": [
        "iris"
      ],
      "metadata": {
        "colab": {
          "base_uri": "https://localhost:8080/",
          "height": 424
        },
        "id": "RKKSZXxD_U7O",
        "outputId": "a9e4821c-017f-498f-efef-65f1085cb317"
      },
      "execution_count": 489,
      "outputs": [
        {
          "output_type": "execute_result",
          "data": {
            "text/plain": [
              "     sepal_length  sepal_width  petal_length  petal_width    species  \\\n",
              "0             5.1          3.5           1.4          0.2     setosa   \n",
              "1             4.9          3.0           1.4          0.2     setosa   \n",
              "2             4.7          3.2           1.3          0.2     setosa   \n",
              "3             4.6          3.1           1.5          0.2     setosa   \n",
              "4             5.0          3.6           1.4          0.2     setosa   \n",
              "..            ...          ...           ...          ...        ...   \n",
              "145           6.7          3.0           5.2          2.3  virginica   \n",
              "146           6.3          2.5           5.0          1.9  virginica   \n",
              "147           6.5          3.0           5.2          2.0  virginica   \n",
              "148           6.2          3.4           5.4          2.3  virginica   \n",
              "149           5.9          3.0           5.1          1.8  virginica   \n",
              "\n",
              "     width_on_length  \n",
              "0              17.85  \n",
              "1              14.70  \n",
              "2              15.04  \n",
              "3              14.26  \n",
              "4              18.00  \n",
              "..               ...  \n",
              "145              NaN  \n",
              "146              NaN  \n",
              "147              NaN  \n",
              "148              NaN  \n",
              "149              NaN  \n",
              "\n",
              "[150 rows x 6 columns]"
            ],
            "text/html": [
              "\n",
              "  <div id=\"df-91aef741-34d0-455a-8636-7d076dccf5bf\">\n",
              "    <div class=\"colab-df-container\">\n",
              "      <div>\n",
              "<style scoped>\n",
              "    .dataframe tbody tr th:only-of-type {\n",
              "        vertical-align: middle;\n",
              "    }\n",
              "\n",
              "    .dataframe tbody tr th {\n",
              "        vertical-align: top;\n",
              "    }\n",
              "\n",
              "    .dataframe thead th {\n",
              "        text-align: right;\n",
              "    }\n",
              "</style>\n",
              "<table border=\"1\" class=\"dataframe\">\n",
              "  <thead>\n",
              "    <tr style=\"text-align: right;\">\n",
              "      <th></th>\n",
              "      <th>sepal_length</th>\n",
              "      <th>sepal_width</th>\n",
              "      <th>petal_length</th>\n",
              "      <th>petal_width</th>\n",
              "      <th>species</th>\n",
              "      <th>width_on_length</th>\n",
              "    </tr>\n",
              "  </thead>\n",
              "  <tbody>\n",
              "    <tr>\n",
              "      <th>0</th>\n",
              "      <td>5.1</td>\n",
              "      <td>3.5</td>\n",
              "      <td>1.4</td>\n",
              "      <td>0.2</td>\n",
              "      <td>setosa</td>\n",
              "      <td>17.85</td>\n",
              "    </tr>\n",
              "    <tr>\n",
              "      <th>1</th>\n",
              "      <td>4.9</td>\n",
              "      <td>3.0</td>\n",
              "      <td>1.4</td>\n",
              "      <td>0.2</td>\n",
              "      <td>setosa</td>\n",
              "      <td>14.70</td>\n",
              "    </tr>\n",
              "    <tr>\n",
              "      <th>2</th>\n",
              "      <td>4.7</td>\n",
              "      <td>3.2</td>\n",
              "      <td>1.3</td>\n",
              "      <td>0.2</td>\n",
              "      <td>setosa</td>\n",
              "      <td>15.04</td>\n",
              "    </tr>\n",
              "    <tr>\n",
              "      <th>3</th>\n",
              "      <td>4.6</td>\n",
              "      <td>3.1</td>\n",
              "      <td>1.5</td>\n",
              "      <td>0.2</td>\n",
              "      <td>setosa</td>\n",
              "      <td>14.26</td>\n",
              "    </tr>\n",
              "    <tr>\n",
              "      <th>4</th>\n",
              "      <td>5.0</td>\n",
              "      <td>3.6</td>\n",
              "      <td>1.4</td>\n",
              "      <td>0.2</td>\n",
              "      <td>setosa</td>\n",
              "      <td>18.00</td>\n",
              "    </tr>\n",
              "    <tr>\n",
              "      <th>...</th>\n",
              "      <td>...</td>\n",
              "      <td>...</td>\n",
              "      <td>...</td>\n",
              "      <td>...</td>\n",
              "      <td>...</td>\n",
              "      <td>...</td>\n",
              "    </tr>\n",
              "    <tr>\n",
              "      <th>145</th>\n",
              "      <td>6.7</td>\n",
              "      <td>3.0</td>\n",
              "      <td>5.2</td>\n",
              "      <td>2.3</td>\n",
              "      <td>virginica</td>\n",
              "      <td>NaN</td>\n",
              "    </tr>\n",
              "    <tr>\n",
              "      <th>146</th>\n",
              "      <td>6.3</td>\n",
              "      <td>2.5</td>\n",
              "      <td>5.0</td>\n",
              "      <td>1.9</td>\n",
              "      <td>virginica</td>\n",
              "      <td>NaN</td>\n",
              "    </tr>\n",
              "    <tr>\n",
              "      <th>147</th>\n",
              "      <td>6.5</td>\n",
              "      <td>3.0</td>\n",
              "      <td>5.2</td>\n",
              "      <td>2.0</td>\n",
              "      <td>virginica</td>\n",
              "      <td>NaN</td>\n",
              "    </tr>\n",
              "    <tr>\n",
              "      <th>148</th>\n",
              "      <td>6.2</td>\n",
              "      <td>3.4</td>\n",
              "      <td>5.4</td>\n",
              "      <td>2.3</td>\n",
              "      <td>virginica</td>\n",
              "      <td>NaN</td>\n",
              "    </tr>\n",
              "    <tr>\n",
              "      <th>149</th>\n",
              "      <td>5.9</td>\n",
              "      <td>3.0</td>\n",
              "      <td>5.1</td>\n",
              "      <td>1.8</td>\n",
              "      <td>virginica</td>\n",
              "      <td>NaN</td>\n",
              "    </tr>\n",
              "  </tbody>\n",
              "</table>\n",
              "<p>150 rows × 6 columns</p>\n",
              "</div>\n",
              "      <button class=\"colab-df-convert\" onclick=\"convertToInteractive('df-91aef741-34d0-455a-8636-7d076dccf5bf')\"\n",
              "              title=\"Convert this dataframe to an interactive table.\"\n",
              "              style=\"display:none;\">\n",
              "        \n",
              "  <svg xmlns=\"http://www.w3.org/2000/svg\" height=\"24px\"viewBox=\"0 0 24 24\"\n",
              "       width=\"24px\">\n",
              "    <path d=\"M0 0h24v24H0V0z\" fill=\"none\"/>\n",
              "    <path d=\"M18.56 5.44l.94 2.06.94-2.06 2.06-.94-2.06-.94-.94-2.06-.94 2.06-2.06.94zm-11 1L8.5 8.5l.94-2.06 2.06-.94-2.06-.94L8.5 2.5l-.94 2.06-2.06.94zm10 10l.94 2.06.94-2.06 2.06-.94-2.06-.94-.94-2.06-.94 2.06-2.06.94z\"/><path d=\"M17.41 7.96l-1.37-1.37c-.4-.4-.92-.59-1.43-.59-.52 0-1.04.2-1.43.59L10.3 9.45l-7.72 7.72c-.78.78-.78 2.05 0 2.83L4 21.41c.39.39.9.59 1.41.59.51 0 1.02-.2 1.41-.59l7.78-7.78 2.81-2.81c.8-.78.8-2.07 0-2.86zM5.41 20L4 18.59l7.72-7.72 1.47 1.35L5.41 20z\"/>\n",
              "  </svg>\n",
              "      </button>\n",
              "      \n",
              "  <style>\n",
              "    .colab-df-container {\n",
              "      display:flex;\n",
              "      flex-wrap:wrap;\n",
              "      gap: 12px;\n",
              "    }\n",
              "\n",
              "    .colab-df-convert {\n",
              "      background-color: #E8F0FE;\n",
              "      border: none;\n",
              "      border-radius: 50%;\n",
              "      cursor: pointer;\n",
              "      display: none;\n",
              "      fill: #1967D2;\n",
              "      height: 32px;\n",
              "      padding: 0 0 0 0;\n",
              "      width: 32px;\n",
              "    }\n",
              "\n",
              "    .colab-df-convert:hover {\n",
              "      background-color: #E2EBFA;\n",
              "      box-shadow: 0px 1px 2px rgba(60, 64, 67, 0.3), 0px 1px 3px 1px rgba(60, 64, 67, 0.15);\n",
              "      fill: #174EA6;\n",
              "    }\n",
              "\n",
              "    [theme=dark] .colab-df-convert {\n",
              "      background-color: #3B4455;\n",
              "      fill: #D2E3FC;\n",
              "    }\n",
              "\n",
              "    [theme=dark] .colab-df-convert:hover {\n",
              "      background-color: #434B5C;\n",
              "      box-shadow: 0px 1px 3px 1px rgba(0, 0, 0, 0.15);\n",
              "      filter: drop-shadow(0px 1px 2px rgba(0, 0, 0, 0.3));\n",
              "      fill: #FFFFFF;\n",
              "    }\n",
              "  </style>\n",
              "\n",
              "      <script>\n",
              "        const buttonEl =\n",
              "          document.querySelector('#df-91aef741-34d0-455a-8636-7d076dccf5bf button.colab-df-convert');\n",
              "        buttonEl.style.display =\n",
              "          google.colab.kernel.accessAllowed ? 'block' : 'none';\n",
              "\n",
              "        async function convertToInteractive(key) {\n",
              "          const element = document.querySelector('#df-91aef741-34d0-455a-8636-7d076dccf5bf');\n",
              "          const dataTable =\n",
              "            await google.colab.kernel.invokeFunction('convertToInteractive',\n",
              "                                                     [key], {});\n",
              "          if (!dataTable) return;\n",
              "\n",
              "          const docLinkHtml = 'Like what you see? Visit the ' +\n",
              "            '<a target=\"_blank\" href=https://colab.research.google.com/notebooks/data_table.ipynb>data table notebook</a>'\n",
              "            + ' to learn more about interactive tables.';\n",
              "          element.innerHTML = '';\n",
              "          dataTable['output_type'] = 'display_data';\n",
              "          await google.colab.output.renderOutput(dataTable, element);\n",
              "          const docLink = document.createElement('div');\n",
              "          docLink.innerHTML = docLinkHtml;\n",
              "          element.appendChild(docLink);\n",
              "        }\n",
              "      </script>\n",
              "    </div>\n",
              "  </div>\n",
              "  "
            ]
          },
          "metadata": {},
          "execution_count": 489
        }
      ]
    },
    {
      "cell_type": "markdown",
      "metadata": {
        "id": "4M6znKUcHzGA"
      },
      "source": [
        "### Задание 5 (0.5 балла)"
      ]
    },
    {
      "cell_type": "markdown",
      "metadata": {
        "id": "7ZEabbWuHzGA"
      },
      "source": [
        "Реализуйте функцию, которая заполняет пропущенные значения в колонке `width_on_length` случайными `float` значениями от 10 до 30, сортирует строки по значению `width_on_length` по убыванию и после этого перенумеровывает индекс датасета (проверьте, чтобы после этих действий не появилось новых колонок)."
      ]
    },
    {
      "cell_type": "code",
      "execution_count": 490,
      "metadata": {
        "ExecuteTime": {
          "end_time": "2021-10-07T11:13:16.033006Z",
          "start_time": "2021-10-07T11:13:16.015249Z"
        },
        "id": "6NjJe-37HzGA"
      },
      "outputs": [],
      "source": [
        "iris['width_on_length'] = iris['width_on_length'].apply(lambda v: np.random.uniform(10, 30) if np.isnan(v) else v)\n",
        "iris = iris.sort_values(by='width_on_length').reset_index()"
      ]
    },
    {
      "cell_type": "code",
      "source": [
        "iris"
      ],
      "metadata": {
        "colab": {
          "base_uri": "https://localhost:8080/",
          "height": 424
        },
        "id": "Wbhu9pMr_uzn",
        "outputId": "22404898-246c-4402-801c-ff3eab22b0a9"
      },
      "execution_count": 491,
      "outputs": [
        {
          "output_type": "execute_result",
          "data": {
            "text/plain": [
              "     index  sepal_length  sepal_width  petal_length  petal_width     species  \\\n",
              "0       60           5.0          2.0           3.5          1.0  versicolor   \n",
              "1       68           6.2          2.2           4.5          1.5  versicolor   \n",
              "2       53           5.5          2.3           4.0          1.3  versicolor   \n",
              "3       83           6.0          2.7           5.1          1.6  versicolor   \n",
              "4       72           6.3          2.5           4.9          1.5  versicolor   \n",
              "..     ...           ...          ...           ...          ...         ...   \n",
              "145    118           7.7          2.6           6.9          2.3   virginica   \n",
              "146    100           6.3          3.3           6.0          2.5   virginica   \n",
              "147    134           6.1          2.6           5.6          1.4   virginica   \n",
              "148    143           6.8          3.2           5.9          2.3   virginica   \n",
              "149    116           6.5          3.0           5.5          1.8   virginica   \n",
              "\n",
              "     width_on_length  \n",
              "0           4.285714  \n",
              "1           4.546667  \n",
              "2           4.743750  \n",
              "3           4.764706  \n",
              "4           4.821429  \n",
              "..               ...  \n",
              "145        27.893734  \n",
              "146        28.964523  \n",
              "147        28.995017  \n",
              "148        29.151172  \n",
              "149        29.996723  \n",
              "\n",
              "[150 rows x 7 columns]"
            ],
            "text/html": [
              "\n",
              "  <div id=\"df-1ec727a2-43aa-4ec6-bd1e-d227bce4500b\">\n",
              "    <div class=\"colab-df-container\">\n",
              "      <div>\n",
              "<style scoped>\n",
              "    .dataframe tbody tr th:only-of-type {\n",
              "        vertical-align: middle;\n",
              "    }\n",
              "\n",
              "    .dataframe tbody tr th {\n",
              "        vertical-align: top;\n",
              "    }\n",
              "\n",
              "    .dataframe thead th {\n",
              "        text-align: right;\n",
              "    }\n",
              "</style>\n",
              "<table border=\"1\" class=\"dataframe\">\n",
              "  <thead>\n",
              "    <tr style=\"text-align: right;\">\n",
              "      <th></th>\n",
              "      <th>index</th>\n",
              "      <th>sepal_length</th>\n",
              "      <th>sepal_width</th>\n",
              "      <th>petal_length</th>\n",
              "      <th>petal_width</th>\n",
              "      <th>species</th>\n",
              "      <th>width_on_length</th>\n",
              "    </tr>\n",
              "  </thead>\n",
              "  <tbody>\n",
              "    <tr>\n",
              "      <th>0</th>\n",
              "      <td>60</td>\n",
              "      <td>5.0</td>\n",
              "      <td>2.0</td>\n",
              "      <td>3.5</td>\n",
              "      <td>1.0</td>\n",
              "      <td>versicolor</td>\n",
              "      <td>4.285714</td>\n",
              "    </tr>\n",
              "    <tr>\n",
              "      <th>1</th>\n",
              "      <td>68</td>\n",
              "      <td>6.2</td>\n",
              "      <td>2.2</td>\n",
              "      <td>4.5</td>\n",
              "      <td>1.5</td>\n",
              "      <td>versicolor</td>\n",
              "      <td>4.546667</td>\n",
              "    </tr>\n",
              "    <tr>\n",
              "      <th>2</th>\n",
              "      <td>53</td>\n",
              "      <td>5.5</td>\n",
              "      <td>2.3</td>\n",
              "      <td>4.0</td>\n",
              "      <td>1.3</td>\n",
              "      <td>versicolor</td>\n",
              "      <td>4.743750</td>\n",
              "    </tr>\n",
              "    <tr>\n",
              "      <th>3</th>\n",
              "      <td>83</td>\n",
              "      <td>6.0</td>\n",
              "      <td>2.7</td>\n",
              "      <td>5.1</td>\n",
              "      <td>1.6</td>\n",
              "      <td>versicolor</td>\n",
              "      <td>4.764706</td>\n",
              "    </tr>\n",
              "    <tr>\n",
              "      <th>4</th>\n",
              "      <td>72</td>\n",
              "      <td>6.3</td>\n",
              "      <td>2.5</td>\n",
              "      <td>4.9</td>\n",
              "      <td>1.5</td>\n",
              "      <td>versicolor</td>\n",
              "      <td>4.821429</td>\n",
              "    </tr>\n",
              "    <tr>\n",
              "      <th>...</th>\n",
              "      <td>...</td>\n",
              "      <td>...</td>\n",
              "      <td>...</td>\n",
              "      <td>...</td>\n",
              "      <td>...</td>\n",
              "      <td>...</td>\n",
              "      <td>...</td>\n",
              "    </tr>\n",
              "    <tr>\n",
              "      <th>145</th>\n",
              "      <td>118</td>\n",
              "      <td>7.7</td>\n",
              "      <td>2.6</td>\n",
              "      <td>6.9</td>\n",
              "      <td>2.3</td>\n",
              "      <td>virginica</td>\n",
              "      <td>27.893734</td>\n",
              "    </tr>\n",
              "    <tr>\n",
              "      <th>146</th>\n",
              "      <td>100</td>\n",
              "      <td>6.3</td>\n",
              "      <td>3.3</td>\n",
              "      <td>6.0</td>\n",
              "      <td>2.5</td>\n",
              "      <td>virginica</td>\n",
              "      <td>28.964523</td>\n",
              "    </tr>\n",
              "    <tr>\n",
              "      <th>147</th>\n",
              "      <td>134</td>\n",
              "      <td>6.1</td>\n",
              "      <td>2.6</td>\n",
              "      <td>5.6</td>\n",
              "      <td>1.4</td>\n",
              "      <td>virginica</td>\n",
              "      <td>28.995017</td>\n",
              "    </tr>\n",
              "    <tr>\n",
              "      <th>148</th>\n",
              "      <td>143</td>\n",
              "      <td>6.8</td>\n",
              "      <td>3.2</td>\n",
              "      <td>5.9</td>\n",
              "      <td>2.3</td>\n",
              "      <td>virginica</td>\n",
              "      <td>29.151172</td>\n",
              "    </tr>\n",
              "    <tr>\n",
              "      <th>149</th>\n",
              "      <td>116</td>\n",
              "      <td>6.5</td>\n",
              "      <td>3.0</td>\n",
              "      <td>5.5</td>\n",
              "      <td>1.8</td>\n",
              "      <td>virginica</td>\n",
              "      <td>29.996723</td>\n",
              "    </tr>\n",
              "  </tbody>\n",
              "</table>\n",
              "<p>150 rows × 7 columns</p>\n",
              "</div>\n",
              "      <button class=\"colab-df-convert\" onclick=\"convertToInteractive('df-1ec727a2-43aa-4ec6-bd1e-d227bce4500b')\"\n",
              "              title=\"Convert this dataframe to an interactive table.\"\n",
              "              style=\"display:none;\">\n",
              "        \n",
              "  <svg xmlns=\"http://www.w3.org/2000/svg\" height=\"24px\"viewBox=\"0 0 24 24\"\n",
              "       width=\"24px\">\n",
              "    <path d=\"M0 0h24v24H0V0z\" fill=\"none\"/>\n",
              "    <path d=\"M18.56 5.44l.94 2.06.94-2.06 2.06-.94-2.06-.94-.94-2.06-.94 2.06-2.06.94zm-11 1L8.5 8.5l.94-2.06 2.06-.94-2.06-.94L8.5 2.5l-.94 2.06-2.06.94zm10 10l.94 2.06.94-2.06 2.06-.94-2.06-.94-.94-2.06-.94 2.06-2.06.94z\"/><path d=\"M17.41 7.96l-1.37-1.37c-.4-.4-.92-.59-1.43-.59-.52 0-1.04.2-1.43.59L10.3 9.45l-7.72 7.72c-.78.78-.78 2.05 0 2.83L4 21.41c.39.39.9.59 1.41.59.51 0 1.02-.2 1.41-.59l7.78-7.78 2.81-2.81c.8-.78.8-2.07 0-2.86zM5.41 20L4 18.59l7.72-7.72 1.47 1.35L5.41 20z\"/>\n",
              "  </svg>\n",
              "      </button>\n",
              "      \n",
              "  <style>\n",
              "    .colab-df-container {\n",
              "      display:flex;\n",
              "      flex-wrap:wrap;\n",
              "      gap: 12px;\n",
              "    }\n",
              "\n",
              "    .colab-df-convert {\n",
              "      background-color: #E8F0FE;\n",
              "      border: none;\n",
              "      border-radius: 50%;\n",
              "      cursor: pointer;\n",
              "      display: none;\n",
              "      fill: #1967D2;\n",
              "      height: 32px;\n",
              "      padding: 0 0 0 0;\n",
              "      width: 32px;\n",
              "    }\n",
              "\n",
              "    .colab-df-convert:hover {\n",
              "      background-color: #E2EBFA;\n",
              "      box-shadow: 0px 1px 2px rgba(60, 64, 67, 0.3), 0px 1px 3px 1px rgba(60, 64, 67, 0.15);\n",
              "      fill: #174EA6;\n",
              "    }\n",
              "\n",
              "    [theme=dark] .colab-df-convert {\n",
              "      background-color: #3B4455;\n",
              "      fill: #D2E3FC;\n",
              "    }\n",
              "\n",
              "    [theme=dark] .colab-df-convert:hover {\n",
              "      background-color: #434B5C;\n",
              "      box-shadow: 0px 1px 3px 1px rgba(0, 0, 0, 0.15);\n",
              "      filter: drop-shadow(0px 1px 2px rgba(0, 0, 0, 0.3));\n",
              "      fill: #FFFFFF;\n",
              "    }\n",
              "  </style>\n",
              "\n",
              "      <script>\n",
              "        const buttonEl =\n",
              "          document.querySelector('#df-1ec727a2-43aa-4ec6-bd1e-d227bce4500b button.colab-df-convert');\n",
              "        buttonEl.style.display =\n",
              "          google.colab.kernel.accessAllowed ? 'block' : 'none';\n",
              "\n",
              "        async function convertToInteractive(key) {\n",
              "          const element = document.querySelector('#df-1ec727a2-43aa-4ec6-bd1e-d227bce4500b');\n",
              "          const dataTable =\n",
              "            await google.colab.kernel.invokeFunction('convertToInteractive',\n",
              "                                                     [key], {});\n",
              "          if (!dataTable) return;\n",
              "\n",
              "          const docLinkHtml = 'Like what you see? Visit the ' +\n",
              "            '<a target=\"_blank\" href=https://colab.research.google.com/notebooks/data_table.ipynb>data table notebook</a>'\n",
              "            + ' to learn more about interactive tables.';\n",
              "          element.innerHTML = '';\n",
              "          dataTable['output_type'] = 'display_data';\n",
              "          await google.colab.output.renderOutput(dataTable, element);\n",
              "          const docLink = document.createElement('div');\n",
              "          docLink.innerHTML = docLinkHtml;\n",
              "          element.appendChild(docLink);\n",
              "        }\n",
              "      </script>\n",
              "    </div>\n",
              "  </div>\n",
              "  "
            ]
          },
          "metadata": {},
          "execution_count": 491
        }
      ]
    },
    {
      "cell_type": "markdown",
      "metadata": {
        "id": "SV9wNx0gHzGB"
      },
      "source": [
        "##  Визуализация"
      ]
    },
    {
      "cell_type": "markdown",
      "metadata": {
        "id": "wj_UuZ9WHzGC"
      },
      "source": [
        "В задачах на визуализацию обязательно подписывайте название графиков и осей, иначе будут снижаться баллы."
      ]
    },
    {
      "cell_type": "code",
      "execution_count": 492,
      "metadata": {
        "ExecuteTime": {
          "end_time": "2021-10-07T11:13:59.474187Z",
          "start_time": "2021-10-07T11:13:59.465211Z"
        },
        "id": "u-XUJ1tGHzGC"
      },
      "outputs": [],
      "source": [
        "import seaborn as sns\n",
        "import matplotlib.pylab as plt"
      ]
    },
    {
      "cell_type": "markdown",
      "metadata": {
        "id": "08c9uHeAHzGC"
      },
      "source": [
        "### Задание 1 (0.5 балла)"
      ]
    },
    {
      "cell_type": "markdown",
      "metadata": {
        "id": "0gaduB2AHzGD"
      },
      "source": [
        "Визуализируйте распределение width_on_length для каждого класса из `species` с помощью функции `sns.kdeplot` (для каждого класса - свой отдельный график)."
      ]
    },
    {
      "cell_type": "code",
      "source": [
        "species_un"
      ],
      "metadata": {
        "colab": {
          "base_uri": "https://localhost:8080/"
        },
        "id": "Zq--cNNFA3Bv",
        "outputId": "2cc8d30d-0eed-420d-cb00-4758f85472a8"
      },
      "execution_count": 493,
      "outputs": [
        {
          "output_type": "execute_result",
          "data": {
            "text/plain": [
              "array(['setosa', 'versicolor', 'virginica'], dtype=object)"
            ]
          },
          "metadata": {},
          "execution_count": 493
        }
      ]
    },
    {
      "cell_type": "code",
      "execution_count": 494,
      "metadata": {
        "collapsed": true,
        "colab": {
          "base_uri": "https://localhost:8080/",
          "height": 858
        },
        "id": "qGTyQFH4HzGD",
        "outputId": "59ffe5bb-ad7c-442f-e4ba-e54cd2797251"
      },
      "outputs": [
        {
          "output_type": "stream",
          "name": "stderr",
          "text": [
            "WARNING:matplotlib.legend:No handles with labels found to put in legend.\n",
            "WARNING:matplotlib.legend:No handles with labels found to put in legend.\n",
            "WARNING:matplotlib.legend:No handles with labels found to put in legend.\n"
          ]
        },
        {
          "output_type": "display_data",
          "data": {
            "text/plain": [
              "<Figure size 432x288 with 1 Axes>"
            ],
            "image/png": "[encoded data removed]"
          },
          "metadata": {
            "needs_background": "light"
          }
        },
        {
          "output_type": "display_data",
          "data": {
            "text/plain": [
              "<Figure size 432x288 with 1 Axes>"
            ],
            "image/png": "[encoded data removed]"
          },
          "metadata": {
            "needs_background": "light"
          }
        },
        {
          "output_type": "display_data",
          "data": {
            "text/plain": [
              "<Figure size 432x288 with 1 Axes>"
            ],
            "image/png": "[encoded data removed]"
          },
          "metadata": {
            "needs_background": "light"
          }
        }
      ],
      "source": [
        "for spec in species_un:\n",
        "  plt.figure()\n",
        "  sns.kdeplot(iris[iris[\"species\"] ==spec][\"width_on_length\"])\n",
        "  plt.legend(title=spec)"
      ]
    },
    {
      "cell_type": "markdown",
      "metadata": {
        "id": "0Qd4pTpEHzGD"
      },
      "source": [
        "### Задание 2 (0.5 балла)"
      ]
    },
    {
      "cell_type": "markdown",
      "metadata": {
        "id": "Kjzs5wU4HzGE"
      },
      "source": [
        "Визуализируйте распределение width_on_length для каждого класса из `species` с помощью функции `sns.boxplot` (все классы изобразите на одном графике)."
      ]
    },
    {
      "cell_type": "code",
      "source": [
        "iris"
      ],
      "metadata": {
        "colab": {
          "base_uri": "https://localhost:8080/",
          "height": 424
        },
        "id": "6xpsVLu-DdJp",
        "outputId": "d8ace364-a6b3-4603-8868-6029d993d25b"
      },
      "execution_count": 495,
      "outputs": [
        {
          "output_type": "execute_result",
          "data": {
            "text/plain": [
              "     index  sepal_length  sepal_width  petal_length  petal_width     species  \\\n",
              "0       60           5.0          2.0           3.5          1.0  versicolor   \n",
              "1       68           6.2          2.2           4.5          1.5  versicolor   \n",
              "2       53           5.5          2.3           4.0          1.3  versicolor   \n",
              "3       83           6.0          2.7           5.1          1.6  versicolor   \n",
              "4       72           6.3          2.5           4.9          1.5  versicolor   \n",
              "..     ...           ...          ...           ...          ...         ...   \n",
              "145    118           7.7          2.6           6.9          2.3   virginica   \n",
              "146    100           6.3          3.3           6.0          2.5   virginica   \n",
              "147    134           6.1          2.6           5.6          1.4   virginica   \n",
              "148    143           6.8          3.2           5.9          2.3   virginica   \n",
              "149    116           6.5          3.0           5.5          1.8   virginica   \n",
              "\n",
              "     width_on_length  \n",
              "0           4.285714  \n",
              "1           4.546667  \n",
              "2           4.743750  \n",
              "3           4.764706  \n",
              "4           4.821429  \n",
              "..               ...  \n",
              "145        27.893734  \n",
              "146        28.964523  \n",
              "147        28.995017  \n",
              "148        29.151172  \n",
              "149        29.996723  \n",
              "\n",
              "[150 rows x 7 columns]"
            ],
            "text/html": [
              "\n",
              "  <div id=\"df-6ab4d705-fdfc-4cd3-9dac-4dda9b09712a\">\n",
              "    <div class=\"colab-df-container\">\n",
              "      <div>\n",
              "<style scoped>\n",
              "    .dataframe tbody tr th:only-of-type {\n",
              "        vertical-align: middle;\n",
              "    }\n",
              "\n",
              "    .dataframe tbody tr th {\n",
              "        vertical-align: top;\n",
              "    }\n",
              "\n",
              "    .dataframe thead th {\n",
              "        text-align: right;\n",
              "    }\n",
              "</style>\n",
              "<table border=\"1\" class=\"dataframe\">\n",
              "  <thead>\n",
              "    <tr style=\"text-align: right;\">\n",
              "      <th></th>\n",
              "      <th>index</th>\n",
              "      <th>sepal_length</th>\n",
              "      <th>sepal_width</th>\n",
              "      <th>petal_length</th>\n",
              "      <th>petal_width</th>\n",
              "      <th>species</th>\n",
              "      <th>width_on_length</th>\n",
              "    </tr>\n",
              "  </thead>\n",
              "  <tbody>\n",
              "    <tr>\n",
              "      <th>0</th>\n",
              "      <td>60</td>\n",
              "      <td>5.0</td>\n",
              "      <td>2.0</td>\n",
              "      <td>3.5</td>\n",
              "      <td>1.0</td>\n",
              "      <td>versicolor</td>\n",
              "      <td>4.285714</td>\n",
              "    </tr>\n",
              "    <tr>\n",
              "      <th>1</th>\n",
              "      <td>68</td>\n",
              "      <td>6.2</td>\n",
              "      <td>2.2</td>\n",
              "      <td>4.5</td>\n",
              "      <td>1.5</td>\n",
              "      <td>versicolor</td>\n",
              "      <td>4.546667</td>\n",
              "    </tr>\n",
              "    <tr>\n",
              "      <th>2</th>\n",
              "      <td>53</td>\n",
              "      <td>5.5</td>\n",
              "      <td>2.3</td>\n",
              "      <td>4.0</td>\n",
              "      <td>1.3</td>\n",
              "      <td>versicolor</td>\n",
              "      <td>4.743750</td>\n",
              "    </tr>\n",
              "    <tr>\n",
              "      <th>3</th>\n",
              "      <td>83</td>\n",
              "      <td>6.0</td>\n",
              "      <td>2.7</td>\n",
              "      <td>5.1</td>\n",
              "      <td>1.6</td>\n",
              "      <td>versicolor</td>\n",
              "      <td>4.764706</td>\n",
              "    </tr>\n",
              "    <tr>\n",
              "      <th>4</th>\n",
              "      <td>72</td>\n",
              "      <td>6.3</td>\n",
              "      <td>2.5</td>\n",
              "      <td>4.9</td>\n",
              "      <td>1.5</td>\n",
              "      <td>versicolor</td>\n",
              "      <td>4.821429</td>\n",
              "    </tr>\n",
              "    <tr>\n",
              "      <th>...</th>\n",
              "      <td>...</td>\n",
              "      <td>...</td>\n",
              "      <td>...</td>\n",
              "      <td>...</td>\n",
              "      <td>...</td>\n",
              "      <td>...</td>\n",
              "      <td>...</td>\n",
              "    </tr>\n",
              "    <tr>\n",
              "      <th>145</th>\n",
              "      <td>118</td>\n",
              "      <td>7.7</td>\n",
              "      <td>2.6</td>\n",
              "      <td>6.9</td>\n",
              "      <td>2.3</td>\n",
              "      <td>virginica</td>\n",
              "      <td>27.893734</td>\n",
              "    </tr>\n",
              "    <tr>\n",
              "      <th>146</th>\n",
              "      <td>100</td>\n",
              "      <td>6.3</td>\n",
              "      <td>3.3</td>\n",
              "      <td>6.0</td>\n",
              "      <td>2.5</td>\n",
              "      <td>virginica</td>\n",
              "      <td>28.964523</td>\n",
              "    </tr>\n",
              "    <tr>\n",
              "      <th>147</th>\n",
              "      <td>134</td>\n",
              "      <td>6.1</td>\n",
              "      <td>2.6</td>\n",
              "      <td>5.6</td>\n",
              "      <td>1.4</td>\n",
              "      <td>virginica</td>\n",
              "      <td>28.995017</td>\n",
              "    </tr>\n",
              "    <tr>\n",
              "      <th>148</th>\n",
              "      <td>143</td>\n",
              "      <td>6.8</td>\n",
              "      <td>3.2</td>\n",
              "      <td>5.9</td>\n",
              "      <td>2.3</td>\n",
              "      <td>virginica</td>\n",
              "      <td>29.151172</td>\n",
              "    </tr>\n",
              "    <tr>\n",
              "      <th>149</th>\n",
              "      <td>116</td>\n",
              "      <td>6.5</td>\n",
              "      <td>3.0</td>\n",
              "      <td>5.5</td>\n",
              "      <td>1.8</td>\n",
              "      <td>virginica</td>\n",
              "      <td>29.996723</td>\n",
              "    </tr>\n",
              "  </tbody>\n",
              "</table>\n",
              "<p>150 rows × 7 columns</p>\n",
              "</div>\n",
              "      <button class=\"colab-df-convert\" onclick=\"convertToInteractive('df-6ab4d705-fdfc-4cd3-9dac-4dda9b09712a')\"\n",
              "              title=\"Convert this dataframe to an interactive table.\"\n",
              "              style=\"display:none;\">\n",
              "        \n",
              "  <svg xmlns=\"http://www.w3.org/2000/svg\" height=\"24px\"viewBox=\"0 0 24 24\"\n",
              "       width=\"24px\">\n",
              "    <path d=\"M0 0h24v24H0V0z\" fill=\"none\"/>\n",
              "    <path d=\"M18.56 5.44l.94 2.06.94-2.06 2.06-.94-2.06-.94-.94-2.06-.94 2.06-2.06.94zm-11 1L8.5 8.5l.94-2.06 2.06-.94-2.06-.94L8.5 2.5l-.94 2.06-2.06.94zm10 10l.94 2.06.94-2.06 2.06-.94-2.06-.94-.94-2.06-.94 2.06-2.06.94z\"/><path d=\"M17.41 7.96l-1.37-1.37c-.4-.4-.92-.59-1.43-.59-.52 0-1.04.2-1.43.59L10.3 9.45l-7.72 7.72c-.78.78-.78 2.05 0 2.83L4 21.41c.39.39.9.59 1.41.59.51 0 1.02-.2 1.41-.59l7.78-7.78 2.81-2.81c.8-.78.8-2.07 0-2.86zM5.41 20L4 18.59l7.72-7.72 1.47 1.35L5.41 20z\"/>\n",
              "  </svg>\n",
              "      </button>\n",
              "      \n",
              "  <style>\n",
              "    .colab-df-container {\n",
              "      display:flex;\n",
              "      flex-wrap:wrap;\n",
              "      gap: 12px;\n",
              "    }\n",
              "\n",
              "    .colab-df-convert {\n",
              "      background-color: #E8F0FE;\n",
              "      border: none;\n",
              "      border-radius: 50%;\n",
              "      cursor: pointer;\n",
              "      display: none;\n",
              "      fill: #1967D2;\n",
              "      height: 32px;\n",
              "      padding: 0 0 0 0;\n",
              "      width: 32px;\n",
              "    }\n",
              "\n",
              "    .colab-df-convert:hover {\n",
              "      background-color: #E2EBFA;\n",
              "      box-shadow: 0px 1px 2px rgba(60, 64, 67, 0.3), 0px 1px 3px 1px rgba(60, 64, 67, 0.15);\n",
              "      fill: #174EA6;\n",
              "    }\n",
              "\n",
              "    [theme=dark] .colab-df-convert {\n",
              "      background-color: #3B4455;\n",
              "      fill: #D2E3FC;\n",
              "    }\n",
              "\n",
              "    [theme=dark] .colab-df-convert:hover {\n",
              "      background-color: #434B5C;\n",
              "      box-shadow: 0px 1px 3px 1px rgba(0, 0, 0, 0.15);\n",
              "      filter: drop-shadow(0px 1px 2px rgba(0, 0, 0, 0.3));\n",
              "      fill: #FFFFFF;\n",
              "    }\n",
              "  </style>\n",
              "\n",
              "      <script>\n",
              "        const buttonEl =\n",
              "          document.querySelector('#df-6ab4d705-fdfc-4cd3-9dac-4dda9b09712a button.colab-df-convert');\n",
              "        buttonEl.style.display =\n",
              "          google.colab.kernel.accessAllowed ? 'block' : 'none';\n",
              "\n",
              "        async function convertToInteractive(key) {\n",
              "          const element = document.querySelector('#df-6ab4d705-fdfc-4cd3-9dac-4dda9b09712a');\n",
              "          const dataTable =\n",
              "            await google.colab.kernel.invokeFunction('convertToInteractive',\n",
              "                                                     [key], {});\n",
              "          if (!dataTable) return;\n",
              "\n",
              "          const docLinkHtml = 'Like what you see? Visit the ' +\n",
              "            '<a target=\"_blank\" href=https://colab.research.google.com/notebooks/data_table.ipynb>data table notebook</a>'\n",
              "            + ' to learn more about interactive tables.';\n",
              "          element.innerHTML = '';\n",
              "          dataTable['output_type'] = 'display_data';\n",
              "          await google.colab.output.renderOutput(dataTable, element);\n",
              "          const docLink = document.createElement('div');\n",
              "          docLink.innerHTML = docLinkHtml;\n",
              "          element.appendChild(docLink);\n",
              "        }\n",
              "      </script>\n",
              "    </div>\n",
              "  </div>\n",
              "  "
            ]
          },
          "metadata": {},
          "execution_count": 495
        }
      ]
    },
    {
      "cell_type": "code",
      "execution_count": 496,
      "metadata": {
        "collapsed": true,
        "colab": {
          "base_uri": "https://localhost:8080/",
          "height": 297
        },
        "id": "2eRdcreMHzGE",
        "outputId": "ea3bed7e-3b51-4d88-e32c-4db459866c59"
      },
      "outputs": [
        {
          "output_type": "execute_result",
          "data": {
            "text/plain": [
              "<matplotlib.axes._subplots.AxesSubplot at 0x7fb3581b2b10>"
            ]
          },
          "metadata": {},
          "execution_count": 496
        },
        {
          "output_type": "display_data",
          "data": {
            "text/plain": [
              "<Figure size 432x288 with 1 Axes>"
            ],
            "image/png": "[encoded data removed]"
          },
          "metadata": {
            "needs_background": "light"
          }
        }
      ],
      "source": [
        "sns.boxplot(data=iris, x=\"width_on_length\", y=\"species\")\n"
      ]
    },
    {
      "cell_type": "markdown",
      "metadata": {
        "id": "3xAh6XyKHzGE"
      },
      "source": [
        "### Задание 3 (0.5 балла)"
      ]
    },
    {
      "cell_type": "markdown",
      "metadata": {
        "id": "gK8_Y6vqHzGE"
      },
      "source": [
        "Постройте график зависимости `sepal_length` от `sepal_width` для класса `setosa` из `species` (в случае дублей в `sepal_width` - найдите среднее `sepal_length` для этого значения `sepal_width` и используйте его для построения графика)"
      ]
    },
    {
      "cell_type": "code",
      "source": [
        "df = iris[iris[\"species\"] == \"setosa\"]"
      ],
      "metadata": {
        "id": "MywbverGQSxt"
      },
      "execution_count": 497,
      "outputs": []
    },
    {
      "cell_type": "code",
      "source": [
        "mapping = df.groupby(\"sepal_width\").mean().to_dict()[\"sepal_length\"]\n",
        "df[df.duplicated()][\"sepal_length\"] = df[df.duplicated()][\"sepal_width\"].map(mapping)\n",
        "df = df.drop_duplicates(subset=[\"sepal_width\"])\n",
        "plt.title(\"sepal_width (sepal_length)\")\n",
        "sns.lineplot(data=df, x='sepal_width', y=\"sepal_length\")"
      ],
      "metadata": {
        "colab": {
          "base_uri": "https://localhost:8080/",
          "height": 313
        },
        "id": "l2Rb1xHARCqp",
        "outputId": "a20873c7-762c-437e-d6fa-75a8c612a7f7"
      },
      "execution_count": 498,
      "outputs": [
        {
          "output_type": "execute_result",
          "data": {
            "text/plain": [
              "<matplotlib.axes._subplots.AxesSubplot at 0x7fb3676c5350>"
            ]
          },
          "metadata": {},
          "execution_count": 498
        },
        {
          "output_type": "display_data",
          "data": {
            "text/plain": [
              "<Figure size 432x288 with 1 Axes>"
            ],
            "image/png": "[encoded data removed]"
          },
          "metadata": {
            "needs_background": "light"
          }
        }
      ]
    },
    {
      "cell_type": "markdown",
      "metadata": {
        "id": "6GxS6qnrHzGF"
      },
      "source": [
        "### Задание 4 (1 балл)"
      ]
    },
    {
      "cell_type": "markdown",
      "metadata": {
        "id": "k8S6r_hFHzGF"
      },
      "source": [
        "Визуализируйте средние значения столбцов `sepal_length, sepal_width, petal_length, petal_width` для каждого класса из `species` в виде столбиковой диаграммы из любой библиотеки на ваш выбор, например `sns.barplot` или `pd.DataFrame.plot.bar` (изобразите все на одном графике)."
      ]
    },
    {
      "cell_type": "code",
      "source": [
        "import matplotlib.pyplot as plt"
      ],
      "metadata": {
        "id": "UNO9xR3AH3ZG"
      },
      "execution_count": 499,
      "outputs": []
    },
    {
      "cell_type": "code",
      "source": [
        "for spec in species_un:\n",
        "  df = iris[iris[\"species\"] == spec].drop(columns=[\"index\", \"species\", \"width_on_length\"])\n",
        "  fig = df.mean().plot.bar()\n",
        "  plt.title(spec)\n",
        "  plt.xlabel('columns')\n",
        "  fig.set_xticklabels(df.columns)\n",
        "  plt.show()"
      ],
      "metadata": {
        "colab": {
          "base_uri": "https://localhost:8080/",
          "height": 1000
        },
        "id": "3kwufcwuH4gZ",
        "outputId": "5cfa8140-adbd-4d69-f372-eb42fe5d368b"
      },
      "execution_count": 500,
      "outputs": [
        {
          "output_type": "display_data",
          "data": {
            "text/plain": [
              "<Figure size 432x288 with 1 Axes>"
            ],
            "image/png": "[encoded data removed]"
          },
          "metadata": {
            "needs_background": "light"
          }
        },
        {
          "output_type": "display_data",
          "data": {
            "text/plain": [
              "<Figure size 432x288 with 1 Axes>"
            ],
            "image/png": "[encoded data removed]"
          },
          "metadata": {
            "needs_background": "light"
          }
        },
        {
          "output_type": "display_data",
          "data": {
            "text/plain": [
              "<Figure size 432x288 with 1 Axes>"
            ],
            "image/png": "[encoded data removed]"
          },
          "metadata": {
            "needs_background": "light"
          }
        }
      ]
    },
    {
      "cell_type": "code",
      "source": [],
      "metadata": {
        "id": "kUq3g0GqEPmA"
      },
      "execution_count": 500,
      "outputs": []
    }
  ],
  "metadata": {
    "kernelspec": {
      "display_name": "Python 3",
      "language": "python",
      "name": "python3"
    },
    "language_info": {
      "codemirror_mode": {
        "name": "ipython",
        "version": 3
      },
      "file_extension": ".py",
      "mimetype": "text/x-python",
      "name": "python",
      "nbconvert_exporter": "python",
      "pygments_lexer": "ipython3",
      "version": "3.8.3"
    },
    "toc": {
      "base_numbering": 1,
      "nav_menu": {},
      "number_sections": true,
      "sideBar": true,
      "skip_h1_title": false,
      "title_cell": "Table of Contents",
      "title_sidebar": "Contents",
      "toc_cell": false,
      "toc_position": {},
      "toc_section_display": true,
      "toc_window_display": false
    },
    "varInspector": {
      "cols": {
        "lenName": 16,
        "lenType": 16,
        "lenVar": 40
      },
      "kernels_config": {
        "python": {
          "delete_cmd_postfix": "",
          "delete_cmd_prefix": "del ",
          "library": "var_list.py",
          "varRefreshCmd": "print(var_dic_list())"
        },
        "r": {
          "delete_cmd_postfix": ") ",
          "delete_cmd_prefix": "rm(",
          "library": "var_list.r",
          "varRefreshCmd": "cat(var_dic_list()) "
        }
      },
      "types_to_exclude": [
        "module",
        "function",
        "builtin_function_or_method",
        "instance",
        "_Feature"
      ],
      "window_display": false
    },
    "colab": {
      "provenance": []
    }
  },
  "nbformat": 4,
  "nbformat_minor": 0
}